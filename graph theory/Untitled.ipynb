{
 "cells": [
  {
   "cell_type": "code",
   "execution_count": 5,
   "id": "ee441d2a",
   "metadata": {},
   "outputs": [
    {
     "name": "stdout",
     "output_type": "stream",
     "text": [
      "\"you need to execute that levenshtein line in anaconda , not here\"\n"
     ]
    }
   ],
   "source": [
    "#yyou need to execute that in anaconda , not here\n",
    "!echo \"you need to execute that levenshtein line in anaconda , not here\"\n",
    "#!conda install -c conda-forge python-levenshtein\n"
   ]
  },
  {
   "cell_type": "code",
   "execution_count": 8,
   "id": "f04a74f1",
   "metadata": {
    "scrolled": true
   },
   "outputs": [
    {
     "name": "stdout",
     "output_type": "stream",
     "text": [
      "Requirement already satisfied: karateclub in c:\\users\\benjamin.marty\\anaconda3\\lib\\site-packages (1.2.2)\n",
      "Requirement already satisfied: python-louvain in c:\\users\\benjamin.marty\\anaconda3\\lib\\site-packages (from karateclub) (0.15)\n",
      "Requirement already satisfied: pygsp in c:\\users\\benjamin.marty\\anaconda3\\lib\\site-packages (from karateclub) (0.5.1)\n",
      "Requirement already satisfied: scipy in c:\\users\\benjamin.marty\\anaconda3\\lib\\site-packages (from karateclub) (1.7.1)\n",
      "Requirement already satisfied: tqdm in c:\\users\\benjamin.marty\\anaconda3\\lib\\site-packages (from karateclub) (4.62.2)\n",
      "Requirement already satisfied: python-Levenshtein in c:\\users\\benjamin.marty\\anaconda3\\lib\\site-packages (from karateclub) (0.12.2)\n",
      "Requirement already satisfied: six in c:\\users\\benjamin.marty\\anaconda3\\lib\\site-packages (from karateclub) (1.16.0)\n",
      "Requirement already satisfied: scikit-learn in c:\\users\\benjamin.marty\\anaconda3\\lib\\site-packages (from karateclub) (0.24.2)\n",
      "Requirement already satisfied: pandas in c:\\users\\benjamin.marty\\anaconda3\\lib\\site-packages (from karateclub) (1.3.3)\n",
      "Requirement already satisfied: decorator==4.4.2 in c:\\users\\benjamin.marty\\anaconda3\\lib\\site-packages (from karateclub) (4.4.2)\n",
      "Requirement already satisfied: networkx in c:\\users\\benjamin.marty\\anaconda3\\lib\\site-packages (from karateclub) (2.6.3)\n",
      "Requirement already satisfied: numpy in c:\\users\\benjamin.marty\\anaconda3\\lib\\site-packages (from karateclub) (1.21.2)\n",
      "Requirement already satisfied: gensim>=4.0.0 in c:\\users\\benjamin.marty\\anaconda3\\lib\\site-packages (from karateclub) (4.1.2)\n",
      "Requirement already satisfied: Cython==0.29.23 in c:\\users\\benjamin.marty\\anaconda3\\lib\\site-packages (from gensim>=4.0.0->karateclub) (0.29.23)\n",
      "Requirement already satisfied: smart-open>=1.8.1 in c:\\users\\benjamin.marty\\anaconda3\\lib\\site-packages\\smart_open-5.2.1-py3.8.egg (from gensim>=4.0.0->karateclub) (5.2.1)\n",
      "Requirement already satisfied: pytz>=2017.3 in c:\\users\\benjamin.marty\\anaconda3\\lib\\site-packages (from pandas->karateclub) (2021.3)\n",
      "Requirement already satisfied: python-dateutil>=2.7.3 in c:\\users\\benjamin.marty\\anaconda3\\lib\\site-packages (from pandas->karateclub) (2.8.2)\n",
      "Requirement already satisfied: setuptools in c:\\users\\benjamin.marty\\anaconda3\\lib\\site-packages (from python-Levenshtein->karateclub) (58.0.4)\n",
      "Requirement already satisfied: joblib>=0.11 in c:\\users\\benjamin.marty\\anaconda3\\lib\\site-packages (from scikit-learn->karateclub) (1.0.1)\n",
      "Requirement already satisfied: threadpoolctl>=2.0.0 in c:\\users\\benjamin.marty\\anaconda3\\lib\\site-packages (from scikit-learn->karateclub) (2.2.0)\n",
      "Requirement already satisfied: colorama in c:\\users\\benjamin.marty\\anaconda3\\lib\\site-packages (from tqdm->karateclub) (0.4.4)\n"
     ]
    }
   ],
   "source": [
    "#instalation de karate_club\n",
    "already_done=False\n",
    "if (not already_done):\n",
    "    !pip install karateclub\n",
    "else:\n",
    "    print(\"why are you still here ?\")"
   ]
  },
  {
   "cell_type": "code",
   "execution_count": null,
   "id": "9f7ead2d",
   "metadata": {},
   "outputs": [],
   "source": []
  },
  {
   "cell_type": "code",
   "execution_count": 1,
   "id": "21bdd831",
   "metadata": {},
   "outputs": [
    {
     "name": "stdout",
     "output_type": "stream",
     "text": [
      "[2, 4, 6, 8]\n"
     ]
    }
   ],
   "source": [
    "l=[1,2,3,4]\n",
    "l2=[uwu*2 for uwu in l]\n",
    "print (l2)"
   ]
  },
  {
   "cell_type": "code",
   "execution_count": 8,
   "id": "83aacece",
   "metadata": {},
   "outputs": [
    {
     "ename": "IndentationError",
     "evalue": "unexpected indent (Temp/ipykernel_5752/2265846762.py, line 2)",
     "output_type": "error",
     "traceback": [
      "\u001b[1;36m  File \u001b[1;32m\"C:\\Users\\BENJAM~1.MAR\\AppData\\Local\\Temp/ipykernel_5752/2265846762.py\"\u001b[1;36m, line \u001b[1;32m2\u001b[0m\n\u001b[1;33m    print(\"jj\")\u001b[0m\n\u001b[1;37m    ^\u001b[0m\n\u001b[1;31mIndentationError\u001b[0m\u001b[1;31m:\u001b[0m unexpected indent\n"
     ]
    }
   ],
   "source": [
    "if(0): print(\"only works for 1\")\n"
   ]
  },
  {
   "cell_type": "code",
   "execution_count": null,
   "id": "b429029e",
   "metadata": {},
   "outputs": [],
   "source": []
  }
 ],
 "metadata": {
  "kernelspec": {
   "display_name": "Python 3 (ipykernel)",
   "language": "python",
   "name": "python3"
  },
  "language_info": {
   "codemirror_mode": {
    "name": "ipython",
    "version": 3
   },
   "file_extension": ".py",
   "mimetype": "text/x-python",
   "name": "python",
   "nbconvert_exporter": "python",
   "pygments_lexer": "ipython3",
   "version": "3.8.12"
  }
 },
 "nbformat": 4,
 "nbformat_minor": 5
}
