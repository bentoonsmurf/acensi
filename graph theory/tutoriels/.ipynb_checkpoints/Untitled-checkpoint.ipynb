{
 "cells": [
  {
   "cell_type": "code",
   "execution_count": null,
   "id": "58bc3d4a",
   "metadata": {},
   "outputs": [],
   "source": [
    "def max_number_on_tab(tab):\n",
    "    max=tab[0]\n",
    "    i=0\n",
    "    while(i<len(tab)):\n",
    "        if(max<tab[i]):\n",
    "            max=tab[i]\n",
    "        i=i+1\n",
    "    return max"
   ]
  },
  {
   "cell_type": "code",
   "execution_count": 1,
   "id": "c3db9916",
   "metadata": {},
   "outputs": [
    {
     "name": "stdout",
     "output_type": "stream",
     "text": [
      "2\n"
     ]
    }
   ],
   "source": [
    "str=\"1323\"\n",
    "print(str[2])"
   ]
  },
  {
   "cell_type": "code",
   "execution_count": null,
   "id": "dc9aba51",
   "metadata": {},
   "outputs": [],
   "source": [
    "# open morseCode.txt file to read\n",
    "morseCodeFile = open('morseCode.txt', 'r') # format is <letter>:<morse code translation><\\n>   \n",
    "# create an empty list for letters\n",
    "letterList = []    \n",
    "# create an empty list for morse codes\n",
    "codeList = []\n",
    "# read the first line of the morseCode.txt\n",
    "line = morseCodeFile.readline()    \n",
    "# while the line is not empty\n",
    "while line != '':        \n",
    "    # strip the \\n from the end of each line\n",
    "    line = line.rstrip()        \n",
    "    # append the first character of the line to the letterList        \n",
    "    letterList.append(line[0])           \n",
    "    # append the 3rd to last character of the line to the codeList\n",
    "    codeList.append(line[2:])        \n",
    "    # read the next line\n",
    "    line = morseCodeFile.readline()        \n",
    "# close the file    \n",
    "morseCodeFile.close()"
   ]
  },
  {
   "cell_type": "code",
   "execution_count": 7,
   "id": "6420009a",
   "metadata": {},
   "outputs": [
    {
     "name": "stdout",
     "output_type": "stream",
     "text": [
      "a\n",
      "e\n",
      "b\n",
      "c\n",
      "d\n"
     ]
    }
   ],
   "source": [
    "# no duplicate\n",
    "a_string=\"aebacccd\"\n",
    "dico=dict()\n",
    "i=0\n",
    "for letter in a_string:\n",
    "        if letter not in dico.keys():\n",
    "            dico[letter]=i\n",
    "            i=i+1\n",
    "            print (letter)\n",
    "list(dico)"
   ]
  },
  {
   "cell_type": "code",
   "execution_count": 8,
   "id": "9e3837c9",
   "metadata": {},
   "outputs": [
    {
     "data": {
      "text/plain": [
       "['a', 'e', 'b', 'c', 'd']"
      ]
     },
     "execution_count": 8,
     "metadata": {},
     "output_type": "execute_result"
    }
   ],
   "source": [
    "# patern selection dans un string\n",
    "def cond_select(s,cond):\n",
    "    char_actuel=0\n",
    "    for letter in s:\n",
    "        if letter== patern[char_actuel]:\n",
    "            char_actuel=char_actuel+1\n",
    "            \n",
    "    "
   ]
  },
  {
   "cell_type": "code",
   "execution_count": 31,
   "id": "e3342e2e",
   "metadata": {},
   "outputs": [
    {
     "name": "stdout",
     "output_type": "stream",
     "text": [
      "0 a\n",
      "1 e\n",
      "2 b\n",
      "3 a\n",
      "4 c\n",
      "in if 4 c 0\n",
      "5 c\n",
      "in if 5 c 1\n",
      "6 c\n",
      "in if 6 c 2\n",
      "7 c\n",
      "wrong letter\n",
      "5 c\n",
      "in if 5 c 0\n",
      "6 c\n",
      "in if 6 c 1\n",
      "7 c\n",
      "in if 7 c 2\n",
      "8 d\n",
      "in if 8 d 3\n",
      "c\n",
      "a\n",
      "WIN\n",
      "9 r\n",
      "wrong letter\n",
      "9 r\n",
      "10 e\n"
     ]
    }
   ],
   "source": [
    "# patern selection dans un string\n",
    "a_string=\"aebaccccdre\"\n",
    "patern='cccd'\n",
    "i=0\n",
    "rollback=0\n",
    "char_actuel=0\n",
    "while(i<len(a_string)):\n",
    "    letter=a_string[i]\n",
    "    print(i,letter)\n",
    "\n",
    "    if letter== patern[char_actuel]:\n",
    "        print(\"in if\",i,letter, char_actuel)\n",
    "        if(char_actuel==len(patern)-1):\n",
    "            print(a_string[rollback])\n",
    "            print(a_string[char_actuel])\n",
    "            print (\"WIN\")        \n",
    "            char_actuel=0\n",
    "        rollback=i-char_actuel\n",
    "        char_actuel=char_actuel+1\n",
    "    else:\n",
    "        if(char_actuel>=1):\n",
    "            print (\"wrong letter\")  \n",
    "            i=rollback\n",
    "            char_actuel=0\n",
    "    i=i+1"
   ]
  },
  {
   "cell_type": "code",
   "execution_count": null,
   "id": "9ae305ba",
   "metadata": {},
   "outputs": [],
   "source": [
    "# count unic words \n",
    "len(set(open(yourdictfile).read().split()))"
   ]
  },
  {
   "cell_type": "code",
   "execution_count": 6,
   "id": "0ae2f4e9",
   "metadata": {},
   "outputs": [
    {
     "name": "stdout",
     "output_type": "stream",
     "text": [
      "2\n",
      "2\n"
     ]
    }
   ],
   "source": [
    "valid=2\n",
    "def changing_val():\n",
    "    valid=4\n",
    "print(valid)\n",
    "changing_val()\n",
    "print(valid)"
   ]
  },
  {
   "cell_type": "code",
   "execution_count": 13,
   "id": "77aee330",
   "metadata": {},
   "outputs": [
    {
     "name": "stdout",
     "output_type": "stream",
     "text": [
      "getcwd:       C:\\Users\\benjamin.marty\\Desktop\\acensi\\fraude_bancaire\\fraude-main\\Script\\graph theory\\tutoriels\n",
      "C:\\Users\\benjamin.marty\\Desktop\\acensi\\fraude_bancaire\\fraude-main\\Script\\graph theory\\tutoriels\\requirements.txt\n"
     ]
    }
   ],
   "source": [
    "import os\n",
    "exe=\"requirements.txt\"\n",
    "print('getcwd:      ', os.getcwd())\n",
    "\n",
    "print(os.path.abspath(exe))"
   ]
  },
  {
   "cell_type": "code",
   "execution_count": 2,
   "id": "8c5e2c96",
   "metadata": {
    "scrolled": true
   },
   "outputs": [
    {
     "name": "stdout",
     "output_type": "stream",
     "text": [
      "you are here:  C:\\Users\\benjamin.marty\\Desktop\\acensi\\fraude_bancaire\\fraude-main\\Script\\graph theory\\tutoriels\n",
      "file  X_train_1_2_rf.csv  not_found\n"
     ]
    }
   ],
   "source": [
    "#finding file , chercher fichier\n",
    "import os\n",
    "exe=\"X_train_1_2_rf.csv\"\n",
    "print('you are here: ', os.getcwd())\n",
    "file_not_found=True\n",
    "\n",
    "for root, dirs, files in os.walk(\"../../../../../../../../../\"):\n",
    "    for name in files:# dirs if you want a dirrectory\n",
    "        #print(name)\n",
    "        if name == exe:\n",
    "            file_not_found=False\n",
    "            print( os.path.abspath(os.path.join(root, name)))\n",
    "if(file_not_found):\n",
    "    print(\"file \",exe,\" not_found\")"
   ]
  },
  {
   "cell_type": "code",
   "execution_count": 1,
   "id": "04b8e67d",
   "metadata": {},
   "outputs": [
    {
     "name": "stdout",
     "output_type": "stream",
     "text": [
      "you are in :   C:\\Users\\benjamin.marty\\Desktop\\acensi\\fraude_bancaire\\fraude-main\\Script\\graph theory\\tutoriels \n",
      "\n",
      "found string in file Untitled.ipynb\n",
      "found string in file Untitled.ipynb\n",
      "found string in file Untitled.ipynb\n"
     ]
    }
   ],
   "source": [
    "#find patern in all files, in the curent directory\n",
    "#deprecated\n",
    "import os\n",
    "\n",
    "user_input =os.getcwd()# name of curent directory\n",
    "directory = os.listdir(user_input)\n",
    "searchstring = \"X_train_1_2_svm\"\n",
    "\n",
    "\n",
    "print('you are in :  ', os.getcwd(),\"\\n\")\n",
    "\n",
    "for root, dirs, files in os.walk(\"../\"):# add ../ to search 1 dir higher\n",
    "    for name in files:\n",
    "        if(\".png\" not in name):\n",
    "            full_path=user_input + os.sep + name\n",
    "            if os.path.isfile(full_path):\n",
    "                f = open(full_path, 'r')\n",
    "                if searchstring in f.read():\n",
    "                    print('found string in file %s' % name)\n",
    "                f.close()"
   ]
  },
  {
   "cell_type": "code",
   "execution_count": 22,
   "id": "6b30cc0c",
   "metadata": {},
   "outputs": [
    {
     "name": "stdout",
     "output_type": "stream",
     "text": [
      "you are in :  C:\\Users\\benjamin.marty\\Desktop\\acensi\\fraude_bancaire\\fraude-main\\Script\\graph theory\\tutoriels \n",
      "\n",
      "directory :  ['.ipynb_checkpoints', 'networks.ipynb', 'random_graph.png', 'Untitled.ipynb'] \n",
      "\n",
      "files : ['Readme.md'] \n",
      "\n",
      "found string in file Untitled.ipynb\n",
      "found string in file Untitled.ipynb\n",
      "found string in file Untitled.ipynb\n",
      "fini  a : 12:57:02\n"
     ]
    }
   ],
   "source": [
    "#find patern in all files, in the curent directory\n",
    "import os\n",
    "import time\n",
    "\n",
    "\n",
    "\n",
    "pattern_not_found = True\n",
    "user_input =os.getcwd()# name of curent directory\n",
    "directory = os.listdir(user_input)\n",
    "searchstring = \"rf_optimized\"\n",
    "\n",
    "\n",
    "\n",
    "\n",
    "print('you are in : ', user_input, \"\\n\")\n",
    "print('directory : ',directory,\"\\n\")\n",
    "\n",
    "\n",
    "first=True\n",
    "\n",
    "for root, dirs, files in os.walk(\"../../../\"):# add ../ to search 1 dir higher\n",
    "    if(first):\n",
    "        first=False\n",
    "        print(\"files :\",files,\"\\n\")\n",
    "    for name in files:\n",
    "        #print(\"name file : \",name)\n",
    "        check = True\n",
    "        liste={\".png\",\".pdf\",\".pptx\",\".docx\"}\n",
    "        for extention in liste:\n",
    "            if extention in name :\n",
    "                check = False\n",
    "        if check:\n",
    "            full_path=user_input + os.sep + name\n",
    "            if os.path.isfile(full_path):\n",
    "                f = open(full_path, 'r')\n",
    "                if searchstring in f.read():\n",
    "                    pattern_not_found = False\n",
    "                    print('found string in file %s' % name)\n",
    "                f.close()\n",
    "if(pattern_not_found):\n",
    "    print(\"file \",searchstring,\" not found \\n\")\n",
    "\n",
    "\n",
    "print(\"fini  a :\",time.strftime(\"%H:%M:%S\", time.localtime()))"
   ]
  },
  {
   "cell_type": "code",
   "execution_count": 26,
   "id": "e399ffbe",
   "metadata": {},
   "outputs": [],
   "source": [
    "def find_format(name,optional_arg=\"nothing\"):\n",
    "\n",
    "\n",
    "    if \".png\" in name:\n",
    "        print(\"its a png!\")\n",
    "        return \"png\"\n",
    "    if \".pdf\" in name:\n",
    "        print(\"its a pdf!\")\n",
    "        return \"pdf\"\n",
    "    if \".txt\" in name:\n",
    "        print(\"its a pdf!\")\n",
    "        return \"txt\"\n",
    "    if optional_arg!=\"nothing\":\n",
    "        if optional_arg in name:\n",
    "            print(\"its a pdf!\")\n",
    "            return \"optional_arg\"\n",
    "        "
   ]
  },
  {
   "cell_type": "code",
   "execution_count": 34,
   "id": "7e18b46d",
   "metadata": {},
   "outputs": [
    {
     "name": "stdout",
     "output_type": "stream",
     "text": [
      "b\n"
     ]
    }
   ],
   "source": [
    "l=[\"a\",\"b\",\"c\",\"d\"]\n",
    "print(l[1])"
   ]
  },
  {
   "cell_type": "code",
   "execution_count": 35,
   "id": "df70a296",
   "metadata": {},
   "outputs": [
    {
     "name": "stdout",
     "output_type": "stream",
     "text": [
      ".\n",
      "a\n",
      ".\n",
      "b\n",
      ".\n",
      "c\n",
      ".\n",
      "d\n"
     ]
    }
   ],
   "source": [
    "i=0\n",
    "#l=[]\n",
    "while(i<len(l)):\n",
    "    print(\".\")\n",
    "    print(l[i])\n",
    "    i+=1"
   ]
  },
  {
   "cell_type": "raw",
   "id": "f09f0a51",
   "metadata": {},
   "source": [
    "public static void mergeSort(int[] a, int n) {\n",
    "    if (n < 2) {\n",
    "        return;\n",
    "    }\n",
    "    int mid = n / 2;\n",
    "    int[] l = new int[mid];\n",
    "    int[] r = new int[n - mid];\n",
    "\n",
    "    for (int i = 0; i < mid; i++) {\n",
    "        l[i] = a[i];\n",
    "    }\n",
    "    for (int i = mid; i < n; i++) {\n",
    "        r[i - mid] = a[i];\n",
    "    }\n",
    "    mergeSort(l, mid);\n",
    "    mergeSort(r, n - mid);\n",
    "\n",
    "    merge(a, l, r, mid, n - mid);\n",
    "}\n",
    "\n",
    "\n",
    "public static void merge(\n",
    "  int[] a, int[] l, int[] r, int left, int right) {\n",
    " \n",
    "    int i = 0, j = 0, k = 0;\n",
    "    while (i < left && j < right) {\n",
    "        if (l[i] <= r[j]) {\n",
    "            a[k++] = l[i++];\n",
    "        }\n",
    "        else {\n",
    "            a[k++] = r[j++];\n",
    "        }\n",
    "    }\n",
    "    while (i < left) {\n",
    "        a[k++] = l[i++];\n",
    "    }\n",
    "    while (j < right) {\n",
    "        a[k++] = r[j++];\n",
    "    }\n",
    "}"
   ]
  },
  {
   "cell_type": "code",
   "execution_count": null,
   "id": "61991676",
   "metadata": {},
   "outputs": [],
   "source": [
    "public static int val_finder(int[] tab,int min_index,int max_index,int key ,boolean sorted){\n",
    "    int val =0;\n",
    "    if(! sorted){\n",
    "        mergeSort(tab,n);\n",
    "    }\n",
    "    val=tab[min_index]\n",
    "    while (val != key){\n",
    "        mid=(min_index+max_index)/2;\n",
    "        val=tab[mid]\n",
    "        \n",
    "        if(val <key ){\n",
    "            min_index=mid;           \n",
    "        }\n",
    "        else{\n",
    "            max_index=mid;\n",
    "        }\n",
    "        l = h;        // store previous high\n",
    "        h = 2*h;      // double high index\n",
    "        val = arr[h]; // update new val\n",
    "    }\n",
    " \n",
    "    \n",
    "}"
   ]
  },
  {
   "cell_type": "code",
   "execution_count": 7,
   "id": "a7f95147",
   "metadata": {},
   "outputs": [
    {
     "name": "stdout",
     "output_type": "stream",
     "text": [
      "1.19.5\n",
      "[]\n",
      "[[1, 7, 0], [6, 2, 5], [7, 8, 9]]\n",
      "[[100, 700, 0], [600, 200, 500], [700, 800, 900], [410, 100, 200]]\n",
      "<class 'numpy.ndarray'>\n",
      "[[  1   7   0]\n",
      " [  6   2   5]\n",
      " [  7   8   9]\n",
      " [100 700   0]\n",
      " [600 200 500]\n",
      " [700 800 900]\n",
      " [410 100 200]\n",
      " [100 700   0]\n",
      " [600 200 500]\n",
      " [700 800 900]\n",
      " [410 100 200]]\n",
      "(11, 3)\n"
     ]
    }
   ],
   "source": [
    "import numpy as np\n",
    "print(np.__version__)\n",
    "ls=np.array([])\n",
    "print((ls))\n",
    "# initializing list\n",
    "ls = [[1, 7, 0],[ 6, 2, 5],[ 7, 8, 9]]\n",
    "ls2 =[[100, 700, 0],[ 600, 200, 500],[ 700, 800, 900],[ 410, 100, 200]]\n",
    "# converting list to array\n",
    "ar = np.asarray(ls)\n",
    "ar2 = np.asarray(ls2)\n",
    " \n",
    "# displaying list\n",
    "print ( ls)\n",
    "print(ls2)\n",
    " \n",
    "# displaying array\n",
    "ar=np.concatenate((ar,ar2),axis=0)\n",
    "ar=np.concatenate((ar,ar2),axis=0)\n",
    "print(type(ar))\n",
    "print(ar)\n",
    "print(ar.shape)"
   ]
  },
  {
   "cell_type": "code",
   "execution_count": 8,
   "id": "44aef01e",
   "metadata": {},
   "outputs": [
    {
     "name": "stdout",
     "output_type": "stream",
     "text": [
      "Array:\n",
      " [[  1   7   0]\n",
      " [  6   2   5]\n",
      " [  7   8   9]\n",
      " [100 700   0]\n",
      " [600 200 500]\n",
      " [700 800 900]\n",
      " [410 100 200]\n",
      " [100 700   0]\n",
      " [600 200 500]\n",
      " [700 800 900]\n",
      " [410 100 200]]\n",
      "\n",
      "Content in file2.txt:\n",
      " [[  1   7   0]\n",
      " [  6   2   5]\n",
      " [  7   8   9]\n",
      " [100 700   0]\n",
      " [600 200 500]\n",
      " [700 800 900]\n",
      " [410 100 200]\n",
      " [100 700   0]\n",
      " [600 200 500]\n",
      " [700 800 900]\n",
      " [410 100 200]]\n"
     ]
    }
   ],
   "source": [
    "Array = ar\n",
    "\n",
    "np.save(\"X_data_1_1.npy\", ar)\n",
    "name=\"Untitled_Folder/\"+\"X_data_1_12_\"+str(0.4)+\".npy\"\n",
    "np.save(name, ar)\n",
    "# Displaying the array\n",
    "print('Array:\\n', Array)\n",
    "file = open(\"np_array_file.txt\", \"w+\")\n",
    " \n",
    "# Saving the 2D array in a text file\n",
    "content = str(Array)\n",
    "file.write(content)\n",
    "file.close()\n",
    " \n",
    "# Displaying the contents of the text file\n",
    "file = open(\"np_array_file.txt\", \"r\")\n",
    "content = file.read()\n",
    " \n",
    "print(\"\\nContent in file2.txt:\\n\", content)\n",
    "file.close()"
   ]
  },
  {
   "cell_type": "code",
   "execution_count": 9,
   "id": "908e5149",
   "metadata": {},
   "outputs": [
    {
     "name": "stdout",
     "output_type": "stream",
     "text": [
      "[[  1   7   0]\n",
      " [  6   2   5]\n",
      " [  7   8   9]\n",
      " [100 700   0]\n",
      " [600 200 500]\n",
      " [700 800 900]\n",
      " [410 100 200]\n",
      " [100 700   0]\n",
      " [600 200 500]\n",
      " [700 800 900]\n",
      " [410 100 200]] \n",
      " (11, 3) 3\n"
     ]
    },
    {
     "ename": "AttributeError",
     "evalue": "'numpy.ndarray' object has no attribute 'columns'",
     "output_type": "error",
     "traceback": [
      "\u001b[1;31m---------------------------------------------------------------------------\u001b[0m",
      "\u001b[1;31mAttributeError\u001b[0m                            Traceback (most recent call last)",
      "\u001b[1;32mC:\\Users\\BENJAM~1.MAR\\AppData\\Local\\Temp/ipykernel_10860/4244427103.py\u001b[0m in \u001b[0;36m<module>\u001b[1;34m\u001b[0m\n\u001b[0;32m      2\u001b[0m \u001b[0mtest\u001b[0m\u001b[1;33m=\u001b[0m\u001b[0mnp\u001b[0m\u001b[1;33m.\u001b[0m\u001b[0mload\u001b[0m\u001b[1;33m(\u001b[0m\u001b[0mname\u001b[0m\u001b[1;33m)\u001b[0m\u001b[1;33m\u001b[0m\u001b[1;33m\u001b[0m\u001b[0m\n\u001b[0;32m      3\u001b[0m \u001b[0mprint\u001b[0m\u001b[1;33m(\u001b[0m\u001b[0mtest\u001b[0m\u001b[1;33m,\u001b[0m\u001b[1;34m\"\\n\"\u001b[0m\u001b[1;33m,\u001b[0m \u001b[0mtest\u001b[0m\u001b[1;33m.\u001b[0m\u001b[0mshape\u001b[0m\u001b[1;33m,\u001b[0m\u001b[0mtest\u001b[0m\u001b[1;33m.\u001b[0m\u001b[0mshape\u001b[0m\u001b[1;33m[\u001b[0m\u001b[1;36m1\u001b[0m\u001b[1;33m]\u001b[0m\u001b[1;33m)\u001b[0m\u001b[1;33m\u001b[0m\u001b[1;33m\u001b[0m\u001b[0m\n\u001b[1;32m----> 4\u001b[1;33m \u001b[0mprint\u001b[0m\u001b[1;33m(\u001b[0m\u001b[0mtest\u001b[0m\u001b[1;33m.\u001b[0m\u001b[0mcolumns\u001b[0m\u001b[1;33m)\u001b[0m\u001b[1;33m\u001b[0m\u001b[1;33m\u001b[0m\u001b[0m\n\u001b[0m",
      "\u001b[1;31mAttributeError\u001b[0m: 'numpy.ndarray' object has no attribute 'columns'"
     ]
    }
   ],
   "source": [
    "#load a np_array\n",
    "test=np.load(name)\n",
    "print(test,\"\\n\", test.shape,test.shape[1])\n",
    "print(test.columns)"
   ]
  },
  {
   "cell_type": "code",
   "execution_count": 13,
   "id": "194e1b89",
   "metadata": {},
   "outputs": [
    {
     "name": "stdout",
     "output_type": "stream",
     "text": [
      "<class 'float'>\n"
     ]
    }
   ],
   "source": [
    "l=[0.2, 0.3]\n",
    "print(type(l[0]))"
   ]
  },
  {
   "cell_type": "code",
   "execution_count": 16,
   "id": "50d59373",
   "metadata": {},
   "outputs": [
    {
     "name": "stdout",
     "output_type": "stream",
     "text": [
      "[[0, 1], [2, 3, 4]] 3\n",
      "[list([0, 1]) list([2, 3, 4]) list([5])]\n",
      "[list([0, 1]) list([2, 3, 4]) list([5])]\n",
      "(1, 3)\n"
     ]
    },
    {
     "name": "stderr",
     "output_type": "stream",
     "text": [
      "C:\\Users\\BENJAM~1.MAR\\AppData\\Local\\Temp/ipykernel_6356/3418927123.py:4: VisibleDeprecationWarning: Creating an ndarray from ragged nested sequences (which is a list-or-tuple of lists-or-tuples-or ndarrays with different lengths or shapes) is deprecated. If you meant to do this, you must specify 'dtype=object' when creating the ndarray\n",
      "  np_array=np.array(l)\n"
     ]
    }
   ],
   "source": [
    "import numpy as np\n",
    "l=[[0,1],[2,3,4],[5]]\n",
    "print(l[0:2],len(l))\n",
    "np_array=np.array(l)\n",
    "print (np_array)\n",
    "np_=np.expand_dims(np_array, 0) \n",
    "print (np_array)\n",
    "print(np_.shape)"
   ]
  },
  {
   "cell_type": "code",
   "execution_count": 6,
   "id": "c565f021",
   "metadata": {},
   "outputs": [],
   "source": [
    "def foo(var_name=12):\n",
    "    if(var_name==12):\n",
    "        print(\"heloo\")\n",
    "    if(var_name==11):\n",
    "        print(\"this is not good\")\n",
    "foo(11)"
   ]
  },
  {
   "cell_type": "code",
   "execution_count": 14,
   "id": "6fd12cc1",
   "metadata": {},
   "outputs": [
    {
     "name": "stdout",
     "output_type": "stream",
     "text": [
      "two  is in the list\n"
     ]
    }
   ],
   "source": [
    "liste=[\"one\",\"two\"]\n",
    "if (\"two\" in liste):\n",
    "    print (\"two\" ,\" is in the list\")"
   ]
  },
  {
   "cell_type": "code",
   "execution_count": 14,
   "id": "3e4a8fee",
   "metadata": {},
   "outputs": [
    {
     "name": "stdout",
     "output_type": "stream",
     "text": [
      "(3,)\n",
      "(1, 3)\n"
     ]
    }
   ],
   "source": [
    "graph_property=np.array([])\n",
    "graph_property=np.append(graph_property,0.1)\n",
    "graph_property=np.append(graph_property,0.1)\n",
    "graph_property=np.append(graph_property,0.1)\n",
    "graph_property_=np.expand_dims(graph_property,axis=0)\n",
    "print(graph_property.shape)\n",
    "print(graph_property_.shape)"
   ]
  },
  {
   "cell_type": "code",
   "execution_count": null,
   "id": "1b42c722",
   "metadata": {},
   "outputs": [],
   "source": [
    "#https://dev.to/devmount/a-cheatsheet-of-128-cheatsheets-for-developers-f4m"
   ]
  },
  {
   "cell_type": "code",
   "execution_count": 12,
   "id": "d5d9dccb",
   "metadata": {},
   "outputs": [],
   "source": [
    "to_do_list=[\"fruit\",\"pome\",\"Contain_meso_scale\"]\n",
    "if(\"contain_meso_scale\" in to_do_list):\n",
    "    print(\"contain_meso_scale\")"
   ]
  },
  {
   "cell_type": "code",
   "execution_count": 9,
   "id": "c2ac8df7",
   "metadata": {},
   "outputs": [
    {
     "name": "stdout",
     "output_type": "stream",
     "text": [
      "alipay fait  2025  transactions par sec\n",
      "inf\n"
     ]
    }
   ],
   "source": [
    "t_per_day=175e6\n",
    "sec_per_day=86400\n",
    "print(\"alipay fait \", int(t_per_day/sec_per_day), \" transactions par sec\")\n",
    "import numpy as np\n",
    "print(\"%f\" %np.Infinity)"
   ]
  },
  {
   "cell_type": "code",
   "execution_count": 11,
   "id": "ce52d7c0",
   "metadata": {},
   "outputs": [],
   "source": [
    "tabl=[0,1,2,1,2,59]"
   ]
  },
  {
   "cell_type": "code",
   "execution_count": 12,
   "id": "18d38ae4",
   "metadata": {},
   "outputs": [
    {
     "name": "stdout",
     "output_type": "stream",
     "text": [
      "[0, 1, 1, 2, 2, 59]\n"
     ]
    }
   ],
   "source": [
    "print(sorted(tabl))"
   ]
  },
  {
   "cell_type": "code",
   "execution_count": null,
   "id": "8e17c9c9",
   "metadata": {},
   "outputs": [],
   "source": [
    "def saving_dict():\n",
    "    with open('saved_dictionary.pkl', 'wb') as f:\n",
    "        pickle.dump(dictionary, f)\n",
    "\n",
    "def loadint_dict():\n",
    "    with open('saved_dictionary.pkl', 'rb') as f:\n",
    "        loaded_dict = pickle.load(f)"
   ]
  }
 ],
 "metadata": {
  "kernelspec": {
   "display_name": "Python 3 (ipykernel)",
   "language": "python",
   "name": "python3"
  },
  "language_info": {
   "codemirror_mode": {
    "name": "ipython",
    "version": 3
   },
   "file_extension": ".py",
   "mimetype": "text/x-python",
   "name": "python",
   "nbconvert_exporter": "python",
   "pygments_lexer": "ipython3",
   "version": "3.8.12"
  }
 },
 "nbformat": 4,
 "nbformat_minor": 5
}
