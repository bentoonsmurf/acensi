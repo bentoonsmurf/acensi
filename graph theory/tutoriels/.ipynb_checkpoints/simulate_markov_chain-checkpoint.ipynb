{
 "cells": [
  {
   "cell_type": "code",
   "execution_count": 1,
   "id": "d0097eec",
   "metadata": {},
   "outputs": [
    {
     "name": "stdout",
     "output_type": "stream",
     "text": [
      "import terminé a : 17:21:28\n"
     ]
    }
   ],
   "source": [
    "\n",
    "from keras import backend as K\n",
    "import tensorflow as tf\n",
    "import pandas as pd \n",
    "import numpy as np\n",
    "import math\n",
    "import matplotlib\n",
    "import matplotlib.pyplot as plt\n",
    "import seaborn as sns\n",
    "import collections\n",
    "import progressbar\n",
    "import time\n",
    "from time import process_time\n",
    "import sys\n",
    "import os\n",
    "import random\n",
    "import gc\n",
    "    \n",
    "from sklearn.cluster import KMeans\n",
    "from sklearn.neighbors import KNeighborsClassifier\n",
    "from sklearn.metrics import confusion_matrix\n",
    "from imblearn.under_sampling import RandomUnderSampler \n",
    "from sklearn.model_selection import train_test_split\n",
    "from sklearn.model_selection import KFold\n",
    "from sklearn.metrics import roc_auc_score\n",
    "from sklearn.ensemble import AdaBoostClassifier\n",
    "from sklearn.metrics import f1_score,classification_report,roc_auc_score,precision_score,recall_score, precision_recall_fscore_support \n",
    "from sklearn.model_selection import GridSearchCV,train_test_split\n",
    "from sklearn.preprocessing import StandardScaler\n",
    "from tensorflow.keras.layers import Dropout\n",
    "\n",
    "\n",
    "#from sklearn_som.som import SOM\n",
    "import networkx as nx\n",
    "from networkx.algorithms import approximation\n",
    "\n",
    "pd.set_option('display.max_columns', 100)\n",
    "\n",
    "\n",
    "print(\"import terminé a :\",time.strftime(\"%H:%M:%S\", time.localtime()))\n"
   ]
  },
  {
   "cell_type": "code",
   "execution_count": 25,
   "id": "5f0d184a",
   "metadata": {},
   "outputs": [],
   "source": [
    "class markov_chain:\n",
    "    \n",
    "    # args=une liste d'argument classique\n",
    "    # kwargs : max_iter=1000---> {'max_iter':'1000'}\n",
    "    def __init__(self, *args, **kwargs):\n",
    "        if(len(args)==0):\n",
    "            self.graph =nx.Graph()\n",
    "            curent_node_name=\"start\"\n",
    "        if(len(args)==1):\n",
    "            self.graph = args[0]\n",
    "            curent_node_name=\"start\"\n",
    "        if(len(args)==2):\n",
    "            self.graph = args[0]\n",
    "            curent_node_name=args[1]\n",
    "            \n",
    "            \n",
    "    def set_g(self, graph): \n",
    "        self.graph = graph       \n",
    "    def get_g(self):\n",
    "        return self.graph\n",
    "    def set_curent_node_name(self, name): \n",
    "        self.curent_node_name = name       \n",
    "    def get_curent_node_name(self):\n",
    "        return self.curent_node_name\n",
    "    def find_stationary_distribution(self):\n",
    "        return type(self.graph)"
   ]
  },
  {
   "cell_type": "code",
   "execution_count": 26,
   "id": "cd2282e5",
   "metadata": {},
   "outputs": [
    {
     "name": "stdout",
     "output_type": "stream",
     "text": [
      "MultiGraph with 0 nodes and 0 edges\n"
     ]
    }
   ],
   "source": [
    "g=nx.MultiGraph()\n",
    "curent_node_name=\"start\"\n",
    "cm=markov_chain(g)\n",
    "print(cm.get_g())"
   ]
  },
  {
   "cell_type": "code",
   "execution_count": null,
   "id": "b5561131",
   "metadata": {},
   "outputs": [],
   "source": []
  }
 ],
 "metadata": {
  "kernelspec": {
   "display_name": "Python 3 (ipykernel)",
   "language": "python",
   "name": "python3"
  },
  "language_info": {
   "codemirror_mode": {
    "name": "ipython",
    "version": 3
   },
   "file_extension": ".py",
   "mimetype": "text/x-python",
   "name": "python",
   "nbconvert_exporter": "python",
   "pygments_lexer": "ipython3",
   "version": "3.8.12"
  }
 },
 "nbformat": 4,
 "nbformat_minor": 5
}
