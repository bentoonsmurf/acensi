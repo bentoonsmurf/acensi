{
 "cells": [
  {
   "cell_type": "code",
   "execution_count": null,
   "id": "58bc3d4a",
   "metadata": {},
   "outputs": [],
   "source": [
    "def max_number_on_tab(tab):\n",
    "    max=tab[0]\n",
    "    i=0\n",
    "    while(i<len(tab)):\n",
    "        if(max<tab[i]):\n",
    "            max=tab[i]\n",
    "        i=i+1\n",
    "    return max"
   ]
  },
  {
   "cell_type": "code",
   "execution_count": 1,
   "id": "c3db9916",
   "metadata": {},
   "outputs": [
    {
     "name": "stdout",
     "output_type": "stream",
     "text": [
      "2\n"
     ]
    }
   ],
   "source": [
    "str=\"1323\"\n",
    "print(str[2])"
   ]
  },
  {
   "cell_type": "code",
   "execution_count": null,
   "id": "dc9aba51",
   "metadata": {},
   "outputs": [],
   "source": [
    "# open morseCode.txt file to read\n",
    "morseCodeFile = open('morseCode.txt', 'r') # format is <letter>:<morse code translation><\\n>   \n",
    "# create an empty list for letters\n",
    "letterList = []    \n",
    "# create an empty list for morse codes\n",
    "codeList = []\n",
    "# read the first line of the morseCode.txt\n",
    "line = morseCodeFile.readline()    \n",
    "# while the line is not empty\n",
    "while line != '':        \n",
    "    # strip the \\n from the end of each line\n",
    "    line = line.rstrip()        \n",
    "    # append the first character of the line to the letterList        \n",
    "    letterList.append(line[0])           \n",
    "    # append the 3rd to last character of the line to the codeList\n",
    "    codeList.append(line[2:])        \n",
    "    # read the next line\n",
    "    line = morseCodeFile.readline()        \n",
    "# close the file    \n",
    "morseCodeFile.close()"
   ]
  },
  {
   "cell_type": "code",
   "execution_count": 7,
   "id": "6420009a",
   "metadata": {},
   "outputs": [
    {
     "name": "stdout",
     "output_type": "stream",
     "text": [
      "a\n",
      "e\n",
      "b\n",
      "c\n",
      "d\n"
     ]
    }
   ],
   "source": [
    "# no duplicate\n",
    "a_string=\"aebacccd\"\n",
    "dico=dict()\n",
    "i=0\n",
    "for letter in a_string:\n",
    "        if letter not in dico.keys():\n",
    "            dico[letter]=i\n",
    "            i=i+1\n",
    "            print (letter)\n",
    "list(dico)"
   ]
  },
  {
   "cell_type": "code",
   "execution_count": 8,
   "id": "9e3837c9",
   "metadata": {},
   "outputs": [
    {
     "data": {
      "text/plain": [
       "['a', 'e', 'b', 'c', 'd']"
      ]
     },
     "execution_count": 8,
     "metadata": {},
     "output_type": "execute_result"
    }
   ],
   "source": [
    "# patern selection dans un string\n",
    "def cond_select(s,cond):\n",
    "    char_actuel=0\n",
    "    for letter in s:\n",
    "        if letter== patern[char_actuel]:\n",
    "            char_actuel=char_actuel+1\n",
    "            \n",
    "    "
   ]
  },
  {
   "cell_type": "code",
   "execution_count": 31,
   "id": "e3342e2e",
   "metadata": {},
   "outputs": [
    {
     "name": "stdout",
     "output_type": "stream",
     "text": [
      "0 a\n",
      "1 e\n",
      "2 b\n",
      "3 a\n",
      "4 c\n",
      "in if 4 c 0\n",
      "5 c\n",
      "in if 5 c 1\n",
      "6 c\n",
      "in if 6 c 2\n",
      "7 c\n",
      "wrong letter\n",
      "5 c\n",
      "in if 5 c 0\n",
      "6 c\n",
      "in if 6 c 1\n",
      "7 c\n",
      "in if 7 c 2\n",
      "8 d\n",
      "in if 8 d 3\n",
      "c\n",
      "a\n",
      "WIN\n",
      "9 r\n",
      "wrong letter\n",
      "9 r\n",
      "10 e\n"
     ]
    }
   ],
   "source": [
    "# patern selection dans un string\n",
    "a_string=\"aebaccccdre\"\n",
    "patern='cccd'\n",
    "i=0\n",
    "rollback=0\n",
    "char_actuel=0\n",
    "while(i<len(a_string)):\n",
    "    letter=a_string[i]\n",
    "    print(i,letter)\n",
    "\n",
    "    if letter== patern[char_actuel]:\n",
    "        print(\"in if\",i,letter, char_actuel)\n",
    "        if(char_actuel==len(patern)-1):\n",
    "            print(a_string[rollback])\n",
    "            print(a_string[char_actuel])\n",
    "            print (\"WIN\")        \n",
    "            char_actuel=0\n",
    "        rollback=i-char_actuel\n",
    "        char_actuel=char_actuel+1\n",
    "    else:\n",
    "        if(char_actuel>=1):\n",
    "            print (\"wrong letter\")  \n",
    "            i=rollback\n",
    "            char_actuel=0\n",
    "    i=i+1"
   ]
  },
  {
   "cell_type": "code",
   "execution_count": null,
   "id": "9ae305ba",
   "metadata": {},
   "outputs": [],
   "source": [
    "# count unic words \n",
    "len(set(open(yourdictfile).read().split()))"
   ]
  },
  {
   "cell_type": "code",
   "execution_count": 6,
   "id": "0ae2f4e9",
   "metadata": {},
   "outputs": [
    {
     "name": "stdout",
     "output_type": "stream",
     "text": [
      "2\n",
      "2\n"
     ]
    }
   ],
   "source": [
    "valid=2\n",
    "def changing_val():\n",
    "    valid=4\n",
    "print(valid)\n",
    "changing_val()\n",
    "print(valid)"
   ]
  },
  {
   "cell_type": "code",
   "execution_count": 13,
   "id": "77aee330",
   "metadata": {},
   "outputs": [
    {
     "name": "stdout",
     "output_type": "stream",
     "text": [
      "getcwd:       C:\\Users\\benjamin.marty\\Desktop\\acensi\\fraude_bancaire\\fraude-main\\Script\\graph theory\\tutoriels\n",
      "C:\\Users\\benjamin.marty\\Desktop\\acensi\\fraude_bancaire\\fraude-main\\Script\\graph theory\\tutoriels\\requirements.txt\n"
     ]
    }
   ],
   "source": [
    "import os\n",
    "exe=\"requirements.txt\"\n",
    "print('getcwd:      ', os.getcwd())\n",
    "\n",
    "print(os.path.abspath(exe))"
   ]
  },
  {
   "cell_type": "code",
   "execution_count": 2,
   "id": "8c5e2c96",
   "metadata": {
    "scrolled": true
   },
   "outputs": [
    {
     "name": "stdout",
     "output_type": "stream",
     "text": [
      "you are here:  C:\\Users\\benjamin.marty\\Desktop\\acensi\\fraude_bancaire\\fraude-main\\Script\\graph theory\\tutoriels\n",
      "file  X_train_1_2_rf.csv  not_found\n"
     ]
    }
   ],
   "source": [
    "#finding file , chercher fichier\n",
    "import os\n",
    "exe=\"X_train_1_2_rf.csv\"\n",
    "print('you are here: ', os.getcwd())\n",
    "file_not_found=True\n",
    "\n",
    "for root, dirs, files in os.walk(\"../../../../../../../../../\"):\n",
    "    for name in files:# dirs if you want a dirrectory\n",
    "        #print(name)\n",
    "        if name == exe:\n",
    "            file_not_found=False\n",
    "            print( os.path.abspath(os.path.join(root, name)))\n",
    "if(file_not_found):\n",
    "    print(\"file \",exe,\" not_found\")"
   ]
  },
  {
   "cell_type": "code",
   "execution_count": 1,
   "id": "04b8e67d",
   "metadata": {},
   "outputs": [
    {
     "name": "stdout",
     "output_type": "stream",
     "text": [
      "you are in :   C:\\Users\\benjamin.marty\\Desktop\\acensi\\fraude_bancaire\\fraude-main\\Script\\graph theory\\tutoriels \n",
      "\n",
      "found string in file Untitled.ipynb\n",
      "found string in file Untitled.ipynb\n",
      "found string in file Untitled.ipynb\n"
     ]
    }
   ],
   "source": [
    "#find patern in all files, in the curent directory\n",
    "#deprecated\n",
    "import os\n",
    "\n",
    "user_input =os.getcwd()# name of curent directory\n",
    "directory = os.listdir(user_input)\n",
    "searchstring = \"X_train_1_2_svm\"\n",
    "\n",
    "\n",
    "print('you are in :  ', os.getcwd(),\"\\n\")\n",
    "\n",
    "for root, dirs, files in os.walk(\"../\"):# add ../ to search 1 dir higher\n",
    "    for name in files:\n",
    "        if(\".png\" not in name):\n",
    "            full_path=user_input + os.sep + name\n",
    "            if os.path.isfile(full_path):\n",
    "                f = open(full_path, 'r')\n",
    "                if searchstring in f.read():\n",
    "                    print('found string in file %s' % name)\n",
    "                f.close()"
   ]
  },
  {
   "cell_type": "code",
   "execution_count": 22,
   "id": "6b30cc0c",
   "metadata": {},
   "outputs": [
    {
     "name": "stdout",
     "output_type": "stream",
     "text": [
      "you are in :  C:\\Users\\benjamin.marty\\Desktop\\acensi\\fraude_bancaire\\fraude-main\\Script\\graph theory\\tutoriels \n",
      "\n",
      "directory :  ['.ipynb_checkpoints', 'networks.ipynb', 'random_graph.png', 'Untitled.ipynb'] \n",
      "\n",
      "files : ['Readme.md'] \n",
      "\n",
      "found string in file Untitled.ipynb\n",
      "found string in file Untitled.ipynb\n",
      "found string in file Untitled.ipynb\n",
      "fini  a : 12:57:02\n"
     ]
    }
   ],
   "source": [
    "#find patern in all files, in the curent directory\n",
    "import os\n",
    "import time\n",
    "\n",
    "\n",
    "\n",
    "pattern_not_found = True\n",
    "user_input =os.getcwd()# name of curent directory\n",
    "directory = os.listdir(user_input)\n",
    "searchstring = \"rf_optimized\"\n",
    "\n",
    "\n",
    "\n",
    "\n",
    "print('you are in : ', user_input, \"\\n\")\n",
    "print('directory : ',directory,\"\\n\")\n",
    "\n",
    "\n",
    "first=True\n",
    "\n",
    "for root, dirs, files in os.walk(\"../../../\"):# add ../ to search 1 dir higher\n",
    "    if(first):\n",
    "        first=False\n",
    "        print(\"files :\",files,\"\\n\")\n",
    "    for name in files:\n",
    "        #print(\"name file : \",name)\n",
    "        check = True\n",
    "        liste={\".png\",\".pdf\",\".pptx\",\".docx\"}\n",
    "        for extention in liste:\n",
    "            if extention in name :\n",
    "                check = False\n",
    "        if check:\n",
    "            full_path=user_input + os.sep + name\n",
    "            if os.path.isfile(full_path):\n",
    "                f = open(full_path, 'r')\n",
    "                if searchstring in f.read():\n",
    "                    pattern_not_found = False\n",
    "                    print('found string in file %s' % name)\n",
    "                f.close()\n",
    "if(pattern_not_found):\n",
    "    print(\"file \",searchstring,\" not found \\n\")\n",
    "\n",
    "\n",
    "print(\"fini  a :\",time.strftime(\"%H:%M:%S\", time.localtime()))"
   ]
  },
  {
   "cell_type": "code",
   "execution_count": 26,
   "id": "e399ffbe",
   "metadata": {},
   "outputs": [],
   "source": [
    "def find_format(name,optional_arg=\"nothing\"):\n",
    "\n",
    "\n",
    "    if \".png\" in name:\n",
    "        print(\"its a png!\")\n",
    "        return \"png\"\n",
    "    if \".pdf\" in name:\n",
    "        print(\"its a pdf!\")\n",
    "        return \"pdf\"\n",
    "    if \".txt\" in name:\n",
    "        print(\"its a pdf!\")\n",
    "        return \"txt\"\n",
    "    if optional_arg!=\"nothing\":\n",
    "        if optional_arg in name:\n",
    "            print(\"its a pdf!\")\n",
    "            return \"optional_arg\"\n",
    "        "
   ]
  },
  {
   "cell_type": "code",
   "execution_count": 34,
   "id": "7e18b46d",
   "metadata": {},
   "outputs": [
    {
     "name": "stdout",
     "output_type": "stream",
     "text": [
      "b\n"
     ]
    }
   ],
   "source": [
    "l=[\"a\",\"b\",\"c\",\"d\"]\n",
    "print(l[1])"
   ]
  },
  {
   "cell_type": "code",
   "execution_count": 35,
   "id": "df70a296",
   "metadata": {},
   "outputs": [
    {
     "name": "stdout",
     "output_type": "stream",
     "text": [
      ".\n",
      "a\n",
      ".\n",
      "b\n",
      ".\n",
      "c\n",
      ".\n",
      "d\n"
     ]
    }
   ],
   "source": [
    "i=0\n",
    "#l=[]\n",
    "while(i<len(l)):\n",
    "    print(\".\")\n",
    "    print(l[i])\n",
    "    i+=1"
   ]
  },
  {
   "cell_type": "raw",
   "id": "f09f0a51",
   "metadata": {},
   "source": [
    "public static void mergeSort(int[] a, int n) {\n",
    "    if (n < 2) {\n",
    "        return;\n",
    "    }\n",
    "    int mid = n / 2;\n",
    "    int[] l = new int[mid];\n",
    "    int[] r = new int[n - mid];\n",
    "\n",
    "    for (int i = 0; i < mid; i++) {\n",
    "        l[i] = a[i];\n",
    "    }\n",
    "    for (int i = mid; i < n; i++) {\n",
    "        r[i - mid] = a[i];\n",
    "    }\n",
    "    mergeSort(l, mid);\n",
    "    mergeSort(r, n - mid);\n",
    "\n",
    "    merge(a, l, r, mid, n - mid);\n",
    "}\n",
    "\n",
    "\n",
    "public static void merge(\n",
    "  int[] a, int[] l, int[] r, int left, int right) {\n",
    " \n",
    "    int i = 0, j = 0, k = 0;\n",
    "    while (i < left && j < right) {\n",
    "        if (l[i] <= r[j]) {\n",
    "            a[k++] = l[i++];\n",
    "        }\n",
    "        else {\n",
    "            a[k++] = r[j++];\n",
    "        }\n",
    "    }\n",
    "    while (i < left) {\n",
    "        a[k++] = l[i++];\n",
    "    }\n",
    "    while (j < right) {\n",
    "        a[k++] = r[j++];\n",
    "    }\n",
    "}"
   ]
  },
  {
   "cell_type": "code",
   "execution_count": null,
   "id": "61991676",
   "metadata": {},
   "outputs": [],
   "source": [
    "public static int val_finder(int[] tab,int min_index,int max_index,int key ,boolean sorted){\n",
    "    int val =0;\n",
    "    if(! sorted){\n",
    "        mergeSort(tab,n);\n",
    "    }\n",
    "    val=tab[min_index]\n",
    "    while (val != key){\n",
    "        mid=(min_index+max_index)/2;\n",
    "        val=tab[mid]\n",
    "        \n",
    "        if(val <key ){\n",
    "            min_index=mid;           \n",
    "        }\n",
    "        else{\n",
    "            max_index=mid;\n",
    "        }\n",
    "        l = h;        // store previous high\n",
    "        h = 2*h;      // double high index\n",
    "        val = arr[h]; // update new val\n",
    "    }\n",
    " \n",
    "    \n",
    "}"
   ]
  },
  {
   "cell_type": "code",
   "execution_count": 5,
   "id": "a7f95147",
   "metadata": {},
   "outputs": [
    {
     "name": "stdout",
     "output_type": "stream",
     "text": [
      "1.19.5\n",
      "[]\n",
      "[[1, 7, 0], [6, 2, 5], [7, 8, 9]]\n",
      "[[100, 700, 0], [600, 200, 500], [700, 800, 900], [410, 100, 200]]\n",
      "<class 'numpy.ndarray'>\n",
      "[[  1   7   0]\n",
      " [  6   2   5]\n",
      " [  7   8   9]\n",
      " [100 700   0]\n",
      " [600 200 500]\n",
      " [700 800 900]\n",
      " [410 100 200]]\n",
      "(7, 3)\n"
     ]
    }
   ],
   "source": [
    "import numpy as np\n",
    "print(np.__version__)\n",
    "ls=np.array([])\n",
    "print((ls))\n",
    "# initializing list\n",
    "ls = [[1, 7, 0],[ 6, 2, 5],[ 7, 8, 9]]\n",
    "ls2 =[[100, 700, 0],[ 600, 200, 500],[ 700, 800, 900],[ 410, 100, 200]]\n",
    "# converting list to array\n",
    "ar = np.asarray(ls)\n",
    "ar2 = np.asarray(ls2)\n",
    " \n",
    "# displaying list\n",
    "print ( ls)\n",
    "print(ls2)\n",
    " \n",
    "# displaying array\n",
    "ar=np.concatenate((ar,ar2),axis=0)\n",
    "#ar=np.concatenate((ar,ar2),axis=0)\n",
    "print(type(ar))\n",
    "print(ar)\n",
    "print(ar.shape)"
   ]
  },
  {
   "cell_type": "code",
   "execution_count": 6,
   "id": "44aef01e",
   "metadata": {},
   "outputs": [
    {
     "name": "stdout",
     "output_type": "stream",
     "text": [
      "Array:\n",
      " [[  1   7   0]\n",
      " [  6   2   5]\n",
      " [  7   8   9]\n",
      " [100 700   0]\n",
      " [600 200 500]\n",
      " [700 800 900]\n",
      " [410 100 200]]\n",
      "\n",
      "Content in file2.txt:\n",
      " [[  1   7   0]\n",
      " [  6   2   5]\n",
      " [  7   8   9]\n",
      " [100 700   0]\n",
      " [600 200 500]\n",
      " [700 800 900]\n",
      " [410 100 200]]\n"
     ]
    }
   ],
   "source": [
    "Array = ar\n",
    "\n",
    "np.save(\"X_data_1_1.npy\", ar)\n",
    "name=\"Untitled_Folder/\"+\"X_data_1_12_\"+str(0.4)+\".npy\"\n",
    "np.save(name, ar)\n",
    "# Displaying the array\n",
    "print('Array:\\n', Array)\n",
    "file = open(\"np_array_file.txt\", \"w+\")\n",
    " \n",
    "# Saving the 2D array in a text file\n",
    "content = str(Array)\n",
    "file.write(content)\n",
    "file.close()\n",
    " \n",
    "# Displaying the contents of the text file\n",
    "file = open(\"np_array_file.txt\", \"r\")\n",
    "content = file.read()\n",
    " \n",
    "print(\"\\nContent in file2.txt:\\n\", content)\n",
    "file.close()"
   ]
  },
  {
   "cell_type": "code",
   "execution_count": 7,
   "id": "908e5149",
   "metadata": {},
   "outputs": [
    {
     "name": "stdout",
     "output_type": "stream",
     "text": [
      "[[  1   7   0]\n",
      " [  6   2   5]\n",
      " [  7   8   9]\n",
      " [100 700   0]\n",
      " [600 200 500]\n",
      " [700 800 900]\n",
      " [410 100 200]] \n",
      " (7, 3) 3\n"
     ]
    }
   ],
   "source": [
    "#load a np_array\n",
    "test=np.load(name)\n",
    "print(test,\"\\n\", test.shape,test.shape[1])\n"
   ]
  },
  {
   "cell_type": "code",
   "execution_count": 13,
   "id": "194e1b89",
   "metadata": {},
   "outputs": [
    {
     "name": "stdout",
     "output_type": "stream",
     "text": [
      "<class 'float'>\n"
     ]
    }
   ],
   "source": [
    "l=[0.2, 0.3]\n",
    "print(type(l[0]))"
   ]
  },
  {
   "cell_type": "code",
   "execution_count": 16,
   "id": "50d59373",
   "metadata": {},
   "outputs": [
    {
     "name": "stdout",
     "output_type": "stream",
     "text": [
      "[[0, 1], [2, 3, 4]] 3\n",
      "[list([0, 1]) list([2, 3, 4]) list([5])]\n",
      "[list([0, 1]) list([2, 3, 4]) list([5])]\n",
      "(1, 3)\n"
     ]
    },
    {
     "name": "stderr",
     "output_type": "stream",
     "text": [
      "C:\\Users\\BENJAM~1.MAR\\AppData\\Local\\Temp/ipykernel_6356/3418927123.py:4: VisibleDeprecationWarning: Creating an ndarray from ragged nested sequences (which is a list-or-tuple of lists-or-tuples-or ndarrays with different lengths or shapes) is deprecated. If you meant to do this, you must specify 'dtype=object' when creating the ndarray\n",
      "  np_array=np.array(l)\n"
     ]
    }
   ],
   "source": [
    "import numpy as np\n",
    "l=[[0,1],[2,3,4],[5]]\n",
    "print(l[0:2],len(l))\n",
    "np_array=np.array(l)\n",
    "print (np_array)\n",
    "np_=np.expand_dims(np_array, 0) \n",
    "print (np_array)\n",
    "print(np_.shape)"
   ]
  },
  {
   "cell_type": "code",
   "execution_count": 6,
   "id": "c565f021",
   "metadata": {},
   "outputs": [],
   "source": [
    "def foo(var_name=12):\n",
    "    if(var_name==12):\n",
    "        print(\"heloo\")\n",
    "    if(var_name==11):\n",
    "        print(\"this is not good\")\n",
    "foo(11)"
   ]
  },
  {
   "cell_type": "code",
   "execution_count": 14,
   "id": "6fd12cc1",
   "metadata": {},
   "outputs": [
    {
     "name": "stdout",
     "output_type": "stream",
     "text": [
      "two  is in the list\n"
     ]
    }
   ],
   "source": [
    "liste=[\"one\",\"two\"]\n",
    "if (\"two\" in liste):\n",
    "    print (\"two\" ,\" is in the list\")"
   ]
  },
  {
   "cell_type": "code",
   "execution_count": 14,
   "id": "3e4a8fee",
   "metadata": {},
   "outputs": [
    {
     "name": "stdout",
     "output_type": "stream",
     "text": [
      "(3,)\n",
      "(1, 3)\n"
     ]
    }
   ],
   "source": [
    "graph_property=np.array([])\n",
    "graph_property=np.append(graph_property,0.1)\n",
    "graph_property=np.append(graph_property,0.1)\n",
    "graph_property=np.append(graph_property,0.1)\n",
    "graph_property_=np.expand_dims(graph_property,axis=0)\n",
    "print(graph_property.shape)\n",
    "print(graph_property_.shape)"
   ]
  },
  {
   "cell_type": "code",
   "execution_count": null,
   "id": "1b42c722",
   "metadata": {},
   "outputs": [],
   "source": [
    "#https://dev.to/devmount/a-cheatsheet-of-128-cheatsheets-for-developers-f4m"
   ]
  },
  {
   "cell_type": "code",
   "execution_count": 12,
   "id": "d5d9dccb",
   "metadata": {},
   "outputs": [],
   "source": [
    "to_do_list=[\"fruit\",\"pome\",\"Contain_meso_scale\"]\n",
    "if(\"contain_meso_scale\" in to_do_list):\n",
    "    print(\"contain_meso_scale\")"
   ]
  },
  {
   "cell_type": "code",
   "execution_count": 9,
   "id": "c2ac8df7",
   "metadata": {},
   "outputs": [
    {
     "name": "stdout",
     "output_type": "stream",
     "text": [
      "alipay fait  2025  transactions par sec\n",
      "inf\n"
     ]
    }
   ],
   "source": [
    "t_per_day=175e6\n",
    "sec_per_day=86400\n",
    "print(\"alipay fait \", int(t_per_day/sec_per_day), \" transactions par sec\")\n",
    "import numpy as np\n",
    "print(\"%f\" %np.Infinity)"
   ]
  },
  {
   "cell_type": "code",
   "execution_count": 11,
   "id": "ce52d7c0",
   "metadata": {},
   "outputs": [],
   "source": [
    "tabl=[0,1,2,1,2,59]"
   ]
  },
  {
   "cell_type": "code",
   "execution_count": 12,
   "id": "18d38ae4",
   "metadata": {},
   "outputs": [
    {
     "name": "stdout",
     "output_type": "stream",
     "text": [
      "[0, 1, 1, 2, 2, 59]\n"
     ]
    }
   ],
   "source": [
    "print(sorted(tabl))"
   ]
  },
  {
   "cell_type": "code",
   "execution_count": null,
   "id": "8e17c9c9",
   "metadata": {},
   "outputs": [],
   "source": [
    "def saving_dict():\n",
    "    with open('saved_dictionary.pkl', 'wb') as f:\n",
    "        pickle.dump(dictionary, f)\n",
    "\n",
    "def loadint_dict():\n",
    "    with open('saved_dictionary.pkl', 'rb') as f:\n",
    "        loaded_dict = pickle.load(f)"
   ]
  },
  {
   "cell_type": "code",
   "execution_count": null,
   "id": "466dda9a",
   "metadata": {},
   "outputs": [],
   "source": [
    "from sklearn import svm\n",
    "from sklearn.metrics import classification_report\n",
    "\n",
    "xtrain=pd.read_csv(\"../../data/X_train_1_2_svm.csv\")\n",
    "ytrain=train_df['is_fraud'].iloc[:int(len(train_df)*0.8)]\n",
    "\n",
    "cols=['Unnamed: 0', 'merchant', 'category', 'amt', 'gender', \n",
    "      'state', 'zip', 'lat', 'long', 'city_pop', 'dob', \n",
    "      'unix_time', 'merch_lat', 'merch_long', 'delta_time', \n",
    "      'delta_amt', 'delta_time_category', 'delta_amt_category', \n",
    "      'delta_time_merchant', 'delta_amt_merchant', 'avg_amt', \n",
    "      'delta_avg_amt', 'avg_amt_category', 'delta_avg_amt_category',\n",
    "      'avg_amt_merchant', 'avg_amt_state', 'avg_amt_city', \n",
    "      'avg_amt_job', 'delta_avg_amt_category_job', 'month', 'day', 'hour']\n",
    "# print(len(cols)) = 32\n",
    "\n",
    "svm_model = svm.SVC(kernel=\"rbf\", gamma = 0.02, C=10)\n",
    "svm_model.fit(xtrain,ytrain)\n",
    "y_train_pred=svm_model.predict(xtrain)\n",
    "print(classification_report(ytrain,y_train_pred))"
   ]
  },
  {
   "cell_type": "code",
   "execution_count": 1,
   "id": "08cb470d",
   "metadata": {},
   "outputs": [],
   "source": [
    "tab1=[]\n",
    "tab2=[]\n",
    "recall_diff = -0.0308\n",
    "tab1.append(recall_diff)\n",
    "f1scorediff = 0.0382\n",
    "tab2.append(f1scorediff)\n",
    "recall_diff = 0.0107\n",
    "tab1.append(recall_diff)\n",
    "f1scorediff = 0.0094\n",
    "tab2.append(f1scorediff)\n",
    "recall_diff = 0.0191\n",
    "tab1.append(recall_diff)\n",
    "f1scorediff = 0.0325\n",
    "tab2.append(f1scorediff)\n",
    "recall_diff = -0.0466\n",
    "tab1.append(recall_diff)\n",
    "f1scorediff = 0.0186\n",
    "tab2.append(f1scorediff)\n",
    "recall_diff = -0.1170\n",
    "tab1.append(recall_diff)\n",
    "f1scorediff = 0.0048\n",
    "tab2.append(f1scorediff)\n",
    "recall_diff = 0.0303\n",
    "tab1.append(recall_diff)\n",
    "f1scorediff = -0.0056\n",
    "tab2.append(f1scorediff)\n",
    "recall_diff = -0.1086\n",
    "tab1.append(recall_diff)\n",
    "f1scorediff = 0.0114\n",
    "tab2.append(f1scorediff)\n",
    "recall_diff = -0.0424\n",
    "tab1.append(recall_diff)\n",
    "f1scorediff = 0.0411\n",
    "tab2.append(f1scorediff)"
   ]
  },
  {
   "cell_type": "code",
   "execution_count": 3,
   "id": "2235db23",
   "metadata": {},
   "outputs": [],
   "source": [
    "import matplotlib.pyplot as plt\n"
   ]
  },
  {
   "cell_type": "code",
   "execution_count": 71,
   "id": "49335e99",
   "metadata": {},
   "outputs": [],
   "source": [
    "def affiche_simple_graphique(threshold_list,recall,f1,title=\"\"):\n",
    "    plt.plot(threshold_list,f1,  label='F1 score',color=\"green\")\n",
    "    plt.plot(threshold_list,recall,  label='recall',color=\"darkgoldenrod\")\n",
    "    plt.plot(threshold_list,[x*0 for x in threshold_list],  label='water level',color=\"blue\")\n",
    "    plt.title(title)\n",
    "    plt.legend()\n",
    "    plt.show()\n",
    "    gain_recall=sum(recall)/len(recall)\n",
    "    gain_f1 = sum(f1)/len(f1)\n",
    "    if(gain_recall>=0):\n",
    "        print(\"average recall  \",'\\033[92m'+\"gain \"+ '\\033[0m',\"%.4f\" % gain_recall)\n",
    "    else:\n",
    "        print(\"average recall \",'\\033[91m'+\"loss \"+ '\\033[0m',\"%.4f\" % gain_recall)\n",
    "    if(gain_f1>=0):\n",
    "        print(\"average f1 score  \",'\\033[92m'+\"gain \"+ '\\033[0m',\"%.4f\" %gain_f1)\n",
    "    else:\n",
    "        print(\"average f1 score  \",'\\033[91m'+\"loss \"+ '\\033[0m',\"%.4f\" %gain_f1)\n",
    "\n"
   ]
  },
  {
   "cell_type": "code",
   "execution_count": 72,
   "id": "4fbfc28a",
   "metadata": {},
   "outputs": [
    {
     "data": {
      "image/png": "[encoded data removed]",
      "text/plain": [
       "<Figure size 432x288 with 1 Axes>"
      ]
     },
     "metadata": {
      "needs_background": "light"
     },
     "output_type": "display_data"
    },
    {
     "name": "stdout",
     "output_type": "stream",
     "text": [
      "average recall  \u001b[91mloss \u001b[0m -0.0357\n",
      "average f1 score   \u001b[92mgain \u001b[0m 0.0188\n"
     ]
    }
   ],
   "source": [
    " affiche_simple_graphique(threshold_list,tab1,tab2,title=\"tetst\")\n"
   ]
  },
  {
   "cell_type": "code",
   "execution_count": 22,
   "id": "0584df43",
   "metadata": {},
   "outputs": [],
   "source": [
    "p= [x*0 for x in threshold_list]"
   ]
  },
  {
   "cell_type": "code",
   "execution_count": 23,
   "id": "223299ef",
   "metadata": {},
   "outputs": [
    {
     "name": "stdout",
     "output_type": "stream",
     "text": [
      "[0.0, 0.0, 0.0, 0.0, 0.0, 0.0, 0.0, 0.0]\n"
     ]
    }
   ],
   "source": [
    "print(p)"
   ]
  },
  {
   "cell_type": "code",
   "execution_count": 11,
   "id": "16197633",
   "metadata": {},
   "outputs": [],
   "source": [
    "def recur_factorial(i,mult=1):\n",
    "\n",
    "    if(i<=0):\n",
    "        return mult\n",
    "    print(mult)\n",
    "    return recur_factorial(i-1,mult=mult*i)"
   ]
  },
  {
   "cell_type": "code",
   "execution_count": 12,
   "id": "195a54c2",
   "metadata": {},
   "outputs": [
    {
     "name": "stdout",
     "output_type": "stream",
     "text": [
      "1\n",
      "5\n",
      "20\n",
      "60\n",
      "120\n"
     ]
    },
    {
     "data": {
      "text/plain": [
       "120"
      ]
     },
     "execution_count": 12,
     "metadata": {},
     "output_type": "execute_result"
    }
   ],
   "source": [
    "recur_factorial(5)"
   ]
  },
  {
   "cell_type": "code",
   "execution_count": 82,
   "id": "e0d5ff7f",
   "metadata": {},
   "outputs": [],
   "source": [
    "def dict_mean(d_list,target=\"1\"):\n",
    "    dict_list=list()\n",
    "    mean_dict = {}\n",
    "    if(target==\"accuracy\"):\n",
    "        summ=0\n",
    "        for d in d_list:\n",
    "            summ=summ+d[\"accuracy\"]\n",
    "        return summ/len(d_list)\n",
    "    else:\n",
    "        for d in d_list:\n",
    "            dict_list.append(d[target])#extract the lines i want\n",
    "        for key in dict_list[0].keys():\n",
    "            mean_dict[key] = sum(d[key] for d in dict_list) / len(dict_list)\n",
    "    return mean_dict\n",
    "\n",
    "def classification_mean(cl_list):\n",
    "    avg_0 =dict_mean(cl_list,target=\"0\")\n",
    "    avg_1 =dict_mean(cl_list,target=\"1\")\n",
    "    avg_accuracy =dict_mean(cl_list,target=\"accuracy\")\n",
    "    avg_macro =dict_mean(cl_list,target=\"macro avg\")\n",
    "    avg_weighted =dict_mean(cl_list,target=\"weighted avg\")\n",
    "    return { \"0\": avg_0 ,\"1\":avg_1,\"accuracy\":avg_accuracy ,\"macro avg\":avg_macro,\"weighted avg\":avg_weighted }               \n",
    "    "
   ]
  },
  {
   "cell_type": "code",
   "execution_count": 83,
   "id": "547e2873",
   "metadata": {},
   "outputs": [],
   "source": [
    "d1={'0': {'precision': 0.9990793725291983, 'recall': 0.9997940654727281, 'f1-score': 0.9994365912324927, 'support': 553574},\n",
    "    '1': {'precision': 0.934819897084048, 'recall': 0.7622377622377622, 'f1-score': 0.8397534668721109, 'support': 2145},\n",
    "    'accuracy': 0.9988771303482515,\n",
    "    'macro avg': {'precision': 0.9669496348066231, 'recall': 0.8810159138552451, 'f1-score': 0.9195950290523018, 'support': 555719},\n",
    "    'weighted avg': {'precision': 0.9988313396657731, 'recall': 0.9988771303482515, 'f1-score': 0.9988202360210405, 'support': 555719}}\n",
    "\n",
    "d2={'0': {'precision': 0.9992991012961207, 'recall': 0.9993009064732087, 'f1-score': 0.9993000038838494, 'support': 553574},\n",
    "    '1': {'precision': 0.8194962686567164, 'recall': 0.8191142191142191, 'f1-score': 0.8193051993471672, 'support': 2145},\n",
    "    'accuracy': 0.9986054102882932,\n",
    "    'macro avg': {'precision': 0.9093976849764185, 'recall': 0.909207562793714, 'f1-score': 0.9093026016155084, 'support': 555719},\n",
    "    'weighted avg': {'precision': 0.9986050867383828, 'recall': 0.9986054102882932, 'f1-score': 0.9986052483406141, 'support': 555719}}\n",
    "\n",
    "li=list()\n",
    "li.append(d1)\n",
    "li.append(d2)\n"
   ]
  },
  {
   "cell_type": "code",
   "execution_count": 84,
   "id": "6a7f0cc2",
   "metadata": {},
   "outputs": [],
   "source": [
    "avg=dict_mean(li)\n",
    "avg_0=dict_mean(li,target=\"0\")"
   ]
  },
  {
   "cell_type": "code",
   "execution_count": 85,
   "id": "0ab0aa07",
   "metadata": {},
   "outputs": [
    {
     "name": "stdout",
     "output_type": "stream",
     "text": [
      "{'0': {'precision': 0.9990793725291983, 'recall': 0.9997940654727281, 'f1-score': 0.9994365912324927, 'support': 553574}, '1': {'precision': 0.934819897084048, 'recall': 0.7622377622377622, 'f1-score': 0.8397534668721109, 'support': 2145}, 'accuracy': 0.9988771303482515, 'macro avg': {'precision': 0.9669496348066231, 'recall': 0.8810159138552451, 'f1-score': 0.9195950290523018, 'support': 555719}, 'weighted avg': {'precision': 0.9988313396657731, 'recall': 0.9988771303482515, 'f1-score': 0.9988202360210405, 'support': 555719}}\n",
      "{'precision': 0.8771580828703822, 'recall': 0.7906759906759906, 'f1-score': 0.829529333109639, 'support': 2145.0}\n"
     ]
    }
   ],
   "source": [
    "print(d1)\n",
    "print(avg)"
   ]
  },
  {
   "cell_type": "code",
   "execution_count": 86,
   "id": "2ed11cb4",
   "metadata": {},
   "outputs": [],
   "source": [
    "new_d={\"1\":avg, \"0\": avg_0}"
   ]
  },
  {
   "cell_type": "code",
   "execution_count": 87,
   "id": "50c7ebb3",
   "metadata": {},
   "outputs": [
    {
     "name": "stdout",
     "output_type": "stream",
     "text": [
      "[{'0': {'precision': 0.9990793725291983, 'recall': 0.9997940654727281, 'f1-score': 0.9994365912324927, 'support': 553574}, '1': {'precision': 0.934819897084048, 'recall': 0.7622377622377622, 'f1-score': 0.8397534668721109, 'support': 2145}, 'accuracy': 0.9988771303482515, 'macro avg': {'precision': 0.9669496348066231, 'recall': 0.8810159138552451, 'f1-score': 0.9195950290523018, 'support': 555719}, 'weighted avg': {'precision': 0.9988313396657731, 'recall': 0.9988771303482515, 'f1-score': 0.9988202360210405, 'support': 555719}}, {'0': {'precision': 0.9992991012961207, 'recall': 0.9993009064732087, 'f1-score': 0.9993000038838494, 'support': 553574}, '1': {'precision': 0.8194962686567164, 'recall': 0.8191142191142191, 'f1-score': 0.8193051993471672, 'support': 2145}, 'accuracy': 0.9986054102882932, 'macro avg': {'precision': 0.9093976849764185, 'recall': 0.909207562793714, 'f1-score': 0.9093026016155084, 'support': 555719}, 'weighted avg': {'precision': 0.9986050867383828, 'recall': 0.9986054102882932, 'f1-score': 0.9986052483406141, 'support': 555719}}]\n",
      "-------------\n",
      "{'0': {'precision': 0.9991892369126595, 'recall': 0.9995474859729684, 'f1-score': 0.999368297558171, 'support': 553574.0}, '1': {'precision': 0.8771580828703822, 'recall': 0.7906759906759906, 'f1-score': 0.829529333109639, 'support': 2145.0}, 'accuracy': 0.9987412703182723, 'macro avg': {'precision': 0.9381736598915208, 'recall': 0.8951117383244795, 'f1-score': 0.9144488153339051, 'support': 555719.0}, 'weighted avg': {'precision': 0.998718213202078, 'recall': 0.9987412703182723, 'f1-score': 0.9987127421808273, 'support': 555719.0}}\n"
     ]
    }
   ],
   "source": [
    "print(li)\n",
    "print('-------------')\n",
    "print(classification_mean(li))"
   ]
  },
  {
   "cell_type": "code",
   "execution_count": 76,
   "id": "97129868",
   "metadata": {},
   "outputs": [
    {
     "name": "stdout",
     "output_type": "stream",
     "text": [
      "dict_keys(['0', '1', 'accuracy', 'macro avg', 'weighted avg'])\n"
     ]
    }
   ],
   "source": [
    "print(d1.keys())"
   ]
  },
  {
   "cell_type": "code",
   "execution_count": null,
   "id": "3c681978",
   "metadata": {},
   "outputs": [],
   "source": [
    "{'0': {'precision': 0.9991892369126595, 'recall': 0.9995474859729684, 'f1-score': 0.999368297558171, 'support': 553574.0},\n",
    " '1': {'precision': 0.8771580828703822, 'recall': 0.7906759906759906, 'f1-score': 0.829529333109639, 'support': 2145.0},\n",
    " 'accuracy': 0.9987412703182723,\n",
    " 'macro avg': {'precision': 0.9381736598915208, 'recall': 0.8951117383244795, 'f1-score': 0.9144488153339051, 'support': 555719.0},\n",
    " 'weighted avg': {'precision': 0.998718213202078, 'recall': 0.9987412703182723, 'f1-score': 0.9987127421808273, 'support': 555719.0}}\n",
    "\n",
    "\n",
    "\n"
   ]
  },
  {
   "cell_type": "code",
   "execution_count": 88,
   "id": "6ccced0b",
   "metadata": {},
   "outputs": [],
   "source": [
    "acc1=0.9988771303482515\n",
    "acc2=0.9986054102882932\n",
    "avg_acc=(acc1+acc2)/2"
   ]
  },
  {
   "cell_type": "code",
   "execution_count": 89,
   "id": "5ded0eb9",
   "metadata": {},
   "outputs": [
    {
     "name": "stdout",
     "output_type": "stream",
     "text": [
      "0.9987412703182723\n"
     ]
    }
   ],
   "source": [
    "print(avg_acc)"
   ]
  },
  {
   "cell_type": "code",
   "execution_count": 26,
   "id": "e921e3e8",
   "metadata": {},
   "outputs": [
    {
     "name": "stdout",
     "output_type": "stream",
     "text": [
      "-0.5283208335737187\n"
     ]
    }
   ],
   "source": [
    "import math\n",
    "import numpy as np\n",
    "print((1/3)*math.log(1/3,2))"
   ]
  },
  {
   "cell_type": "code",
   "execution_count": 27,
   "id": "d56d5d63",
   "metadata": {},
   "outputs": [
    {
     "name": "stdout",
     "output_type": "stream",
     "text": [
      "0.9182958340544896\n"
     ]
    }
   ],
   "source": [
    "summ=(1/3)*math.log(1/3,2)\n",
    "summ=summ+(2/3)*math.log(2/3,2)\n",
    "print(-summ)"
   ]
  },
  {
   "cell_type": "code",
   "execution_count": 28,
   "id": "7393c527",
   "metadata": {},
   "outputs": [],
   "source": [
    "d2={'0': {'precision': 0.9992991012961207, 'recall': 0.9993009064732087, 'f1-score': 0.9993000038838494, 'support': 553574},\n",
    "    '1': {'precision': 0.8194962686567164, 'recall': 0.8191142191142191, 'f1-score': 0.8193051993471672, 'support': 2145},\n",
    "    'accuracy': 0.9986054102882932,\n",
    "    'macro avg': {'precision': 0.9093976849764185, 'recall': 0.909207562793714, 'f1-score': 0.9093026016155084, 'support': 555719},\n",
    "    'weighted avg': {'precision': 0.9986050867383828, 'recall': 0.9986054102882932, 'f1-score': 0.9986052483406141, 'support': 555719}}\n"
   ]
  },
  {
   "cell_type": "code",
   "execution_count": 32,
   "id": "92df9af9",
   "metadata": {},
   "outputs": [
    {
     "data": {
      "text/plain": [
       "'default return'"
      ]
     },
     "execution_count": 32,
     "metadata": {},
     "output_type": "execute_result"
    }
   ],
   "source": [
    "d2.get('doesnt_exist',\"default return\")"
   ]
  },
  {
   "cell_type": "code",
   "execution_count": 2,
   "id": "92d1ca17",
   "metadata": {},
   "outputs": [
    {
     "data": {
      "text/plain": [
       "7"
      ]
     },
     "execution_count": 2,
     "metadata": {},
     "output_type": "execute_result"
    }
   ],
   "source": [
    "\n",
    "import numpy as np\n",
    "np.sum([[0, 1], [1, 5]])"
   ]
  },
  {
   "cell_type": "code",
   "execution_count": 5,
   "id": "2e4b05f2",
   "metadata": {},
   "outputs": [
    {
     "name": "stdout",
     "output_type": "stream",
     "text": [
      "[[ 6  9]\n",
      " [36 54]]\n",
      "[[0 0 0 0]\n",
      " [0 1 2 3]\n",
      " [0 2 4 6]\n",
      " [0 3 6 9]]\n"
     ]
    }
   ],
   "source": [
    "a=[[0, 1], [1, 5]]\n",
    "b=[[2, 4], [5, 4]]\n",
    "asum=np.sum(a,axis=0)\n",
    "bsum=np.sum(b,axis=1)\n",
    "print(np.outer(asum,bsum))\n",
    "print(np.outer([0,1,2,3],[0,1,2,3]))"
   ]
  },
  {
   "cell_type": "code",
   "execution_count": null,
   "id": "a1bb39c5",
   "metadata": {},
   "outputs": [],
   "source": []
  }
 ],
 "metadata": {
  "kernelspec": {
   "display_name": "Python 3 (ipykernel)",
   "language": "python",
   "name": "python3"
  },
  "language_info": {
   "codemirror_mode": {
    "name": "ipython",
    "version": 3
   },
   "file_extension": ".py",
   "mimetype": "text/x-python",
   "name": "python",
   "nbconvert_exporter": "python",
   "pygments_lexer": "ipython3",
   "version": "3.8.12"
  }
 },
 "nbformat": 4,
 "nbformat_minor": 5
}
