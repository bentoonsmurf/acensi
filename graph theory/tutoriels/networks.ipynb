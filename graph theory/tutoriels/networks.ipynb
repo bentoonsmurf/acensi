{
 "cells": [
  {
   "cell_type": "code",
   "execution_count": 1,
   "id": "56948af5",
   "metadata": {},
   "outputs": [],
   "source": [
    "\n",
    "# Importation des librairies \n",
    "\n",
    "import pandas as pd \n",
    "import numpy as np\n",
    "import matplotlib\n",
    "import matplotlib.pyplot as plt\n",
    "import seaborn as sns\n",
    "import collections\n",
    "import time\n",
    "\n",
    "from sklearn.cluster import KMeans\n",
    "from sklearn.neighbors import KNeighborsClassifier\n",
    "from sklearn.metrics import confusion_matrix\n",
    "from imblearn.under_sampling import RandomUnderSampler \n",
    "from sklearn.model_selection import train_test_split\n",
    "from sklearn.model_selection import KFold\n",
    "from sklearn.metrics import roc_auc_score\n",
    "from sklearn.ensemble import AdaBoostClassifier\n",
    "from sklearn.metrics import f1_score,classification_report,roc_auc_score,precision_score,recall_score, precision_recall_fscore_support \n",
    "from sklearn.model_selection import GridSearchCV,train_test_split\n",
    "from sklearn.preprocessing import StandardScaler\n",
    "#from sklearn_som.som import SOM\n",
    "import networkx as nx\n",
    "\n",
    "\n",
    "pd.set_option('display.max_columns', 100)\n"
   ]
  },
  {
   "cell_type": "markdown",
   "id": "e6919bee",
   "metadata": {},
   "source": [
    "selection des donnée"
   ]
  },
  {
   "cell_type": "code",
   "execution_count": 2,
   "id": "af65ef55",
   "metadata": {},
   "outputs": [
    {
     "name": "stdout",
     "output_type": "stream",
     "text": [
      "['Unnamed: 0', 'trans_date_trans_time', 'cc_num', 'merchant', 'category', 'amt', 'first', 'last', 'gender', 'street', 'city', 'state', 'zip', 'lat', 'long', 'city_pop', 'job', 'dob', 'trans_num', 'unix_time', 'merch_lat', 'merch_long']\n",
      "<class 'pandas.core.frame.DataFrame'>\n",
      "<class 'pandas.core.frame.DataFrame'>\n"
     ]
    }
   ],
   "source": [
    "program_start = time.time()\n",
    "\n",
    "import os\n",
    "data_file= os.path.abspath('../../../data')\n",
    "full_path=data_file+'\\\\'+'fraudTrain.csv'\n",
    "train_df=pd.read_csv(full_path)\n",
    "full_path=data_file+'\\\\'+'fraudTest.csv'\n",
    "test_df=pd.read_csv(full_path)\n",
    "\n",
    "\n",
    "\n",
    "cols = train_df.columns.tolist()\n",
    "cols = [c for c in cols if c not in [\"is_fraud\"]]\n",
    "target = \"is_fraud\"\n",
    "print(cols)\n",
    "\n",
    "#Definition des nouvelles variables X_train and Y_train\n",
    "X_train = train_df[cols]\n",
    "Y_train = train_df[target]\n",
    "\n",
    "#Definition des nouvelles variables X_test and Y_test\n",
    "X_test = test_df[cols]\n",
    "Y_test = test_df[target]\n",
    "\n",
    "\n",
    "\n",
    "\n",
    "features = [ 'merchant', 'cc_num']\n",
    "\n",
    "X_train = X_train[features]\n",
    "X_test = X_test[features]\n",
    "\n",
    "\n",
    "X_train_ultra_simple = X_train.copy()\n",
    "X_test_ultra_simple = X_test.copy()\n",
    "\n",
    "print(type(X_train_ultra_simple))\n",
    "print(type(X_test_ultra_simple))"
   ]
  },
  {
   "cell_type": "code",
   "execution_count": 3,
   "id": "8661ea25",
   "metadata": {},
   "outputs": [],
   "source": [
    "\n",
    "\n",
    "    \n",
    "\n",
    "\n",
    "#return le nombre d'arete du graph weighted_g\n",
    "    def nb_edge(weighted_g):\n",
    "    summ=0\n",
    "    NODES = list(weighted_g.nodes)\n",
    "    for node in NODES:\n",
    "        summ= summ+G.degree[node]\n",
    "    return summ/2\n",
    "\n",
    "def replissement(weighted_g, nb_merc,nb_cc_num):\n",
    "    nb_edges=nb_edge(weighted_g)\n",
    "    nb_max_edges =(nb_merc* nb_cc_num)#graph bipati\n",
    "    return  nb_edges / nb_max_edges\n",
    "    \n",
    "def edge_repartition(g,len_dict_merchants):\n",
    "    repartition=[]\n",
    "    #remplissage de repartiotion avec 0 pour eviter les bugg\n",
    "    \n",
    "    #for each vertex \n",
    "        # for each edge in vertex.edges\n",
    "            #repartition[ edge.poid ] ++\n",
    "    print (\"\")\n",
    "    \n",
    "    \n",
    "    \n",
    "    \n",
    "    \n",
    "    \n",
    "    \n",
    "    \n",
    "\n"
   ]
  },
  {
   "cell_type": "code",
   "execution_count": 4,
   "id": "bac7d4a3",
   "metadata": {},
   "outputs": [
    {
     "name": "stdout",
     "output_type": "stream",
     "text": [
      "---remplissage dict_merchants  9.104117631912231 seconds ---\n",
      "---remplissage dict_cc_num 9.128468751907349 seconds ---\n"
     ]
    }
   ],
   "source": [
    "\n",
    "\n",
    "start = time.time()\n",
    "\n",
    "# il faudrais peut etre mettre les cc_num et les merchants dans le meme dict\n",
    "dict_merchants=dict()\n",
    "dict_cc_num=dict()\n",
    "index =0\n",
    "merc_id=0\n",
    "cc_id=0\n",
    "while index < len(X_train_ultra_simple):\n",
    "    if X_train_ultra_simple[\"merchant\"][index] not in dict_merchants.keys():\n",
    "        dict_merchants[X_train_ultra_simple[\"merchant\"][index]] = merc_id\n",
    "        merc_id=merc_id+1\n",
    "    index=index+1\n",
    "\n",
    "print(\"---remplissage dict_merchants  %s seconds ---\" % (time.time() - start));start = time.time()\n",
    "index=0\n",
    "while index < len(X_train_ultra_simple):\n",
    "    if X_train_ultra_simple[\"cc_num\"][index] not in dict_cc_num.keys():\n",
    "        dict_cc_num[X_train_ultra_simple[\"cc_num\"][index]] = merc_id\n",
    "        merc_id=merc_id+1\n",
    "    index=index+1\n",
    "\n",
    "print(\"---remplissage dict_cc_num %s seconds ---\" % (time.time() - start));start = time.time()"
   ]
  },
  {
   "cell_type": "code",
   "execution_count": 5,
   "id": "a8e82681",
   "metadata": {},
   "outputs": [
    {
     "name": "stdout",
     "output_type": "stream",
     "text": [
      "fraud_Rippin, Kub and Mann\n",
      "Index(['merchant', 'cc_num'], dtype='object')\n",
      "fraud_Rippin, Kub and Mann\n",
      "693  marchants       983  clients\n",
      "1676 humans in the system \n",
      "2703186189652095\n",
      "0 <class 'int'>\n"
     ]
    }
   ],
   "source": [
    "def print_info_diverses():\n",
    "    print(X_train_ultra_simple[\"merchant\"][0])\n",
    "    print(X_train_ultra_simple[\"cc_num\"][0])\n",
    "    print(X_train_ultra_simple.columns)\n",
    "    print(X_train_ultra_simple.loc[0][\"merchant\"])\n",
    "\n",
    "    print (len(dict_merchants),\" marchants      \",len(dict_cc_num),\" clients\")\n",
    "    print (len(dict_merchants)+len(dict_cc_num) , \"humans in the system \")#1676\n",
    "    print(X_train_ultra_simple[\"cc_num\"][0])\n",
    "    print (dict_merchants[ \"fraud_Rippin, Kub and Mann\"], type(dict_merchants[ \"fraud_Rippin, Kub and Mann\"]))\n",
    "    "
   ]
  },
  {
   "cell_type": "code",
   "execution_count": null,
   "id": "22f5885f",
   "metadata": {
    "scrolled": true
   },
   "outputs": [],
   "source": []
  },
  {
   "cell_type": "code",
   "execution_count": 7,
   "id": "d1a500cd",
   "metadata": {},
   "outputs": [
    {
     "name": "stdout",
     "output_type": "stream",
     "text": [
      "fraud_Rippin, Kub and Mann\n",
      "2703186189652095\n",
      "0\n",
      "fraud_Rippin, Kub and Mann\n"
     ]
    }
   ],
   "source": [
    "\n",
    "print(X_train_ultra_simple[\"merchant\"][0])\n",
    "print(X_train_ultra_simple[\"cc_num\"][0])\n",
    "print (dict_merchants[ \"fraud_Rippin, Kub and Mann\"])\n",
    "print( X_train_ultra_simple.merchant[0])"
   ]
  },
  {
   "cell_type": "code",
   "execution_count": 8,
   "id": "80e65579",
   "metadata": {},
   "outputs": [],
   "source": [
    "#manual testing\n",
    "#i = 5\n",
    "#X_train_ultra_simple.iat[i,0]=dict_merchants[X_train_ultra_simple.iat[i,0]]\n",
    "#X_train_ultra_simple.iat[i,1]=dict_cc_num[X_train_ultra_simple.iat[i,1]]\n",
    "#print(X_train_ultra_simple.iat[i,0])\n",
    "\n",
    "#print(X_train_ultra_simple.iat[i,1])\n",
    "\n",
    "\n",
    "\n",
    "def ditc_maping(X_train_ultra_simple,dict_merchants,dict_cc_num):\n",
    "    size =len(X_train_ultra_simple)\n",
    "    i=0\n",
    "    while (i<size):\n",
    "        X_train_ultra_simple.iat[i,0]=dict_merchants[X_train_ultra_simple.iat[i,0]]\n",
    "        X_train_ultra_simple.iat[i,1]=dict_cc_num[X_train_ultra_simple.iat[i,1]]\n",
    "        i=i+1\n",
    "\n",
    "def nb_edge(weighted_g):\n",
    "    summ=0\n",
    "    NODES = list(weighted_g.nodes)\n",
    "    for node in NODES:\n",
    "        summ= summ+G.degree[node]\n",
    "    return summ\n",
    "\n",
    "\n"
   ]
  },
  {
   "cell_type": "code",
   "execution_count": 9,
   "id": "a81fcfec",
   "metadata": {},
   "outputs": [],
   "source": [
    "# Scaling the data\n",
    "#columns = X_train_ultra_simple.columns\n",
    "#print(columns)\n",
    "\n",
    "#print(type(X_train_ultra_simple))\n",
    "#print(type(X_test_ultra_simple))\n",
    "#scaler = StandardScaler()\n",
    "#bonjour \n",
    "#pour le codin game je voudrais bien du c du python et du java\n",
    "#scaler.fit(X_train_ultra_simple)\n",
    "#X_train_ultra_simple = scaler.transform(X_train_ultra_simple)\n",
    "\n",
    "#X_test_ultra_simple = scaler.transform(X_test_ultra_simple)"
   ]
  },
  {
   "cell_type": "code",
   "execution_count": 10,
   "id": "3d1accfe",
   "metadata": {},
   "outputs": [
    {
     "name": "stdout",
     "output_type": "stream",
     "text": [
      "---dictionary maping = 3935.2345378398895 seconds ---\n",
      "<class 'int'>\n",
      "0\n"
     ]
    },
    {
     "ename": "KeyError",
     "evalue": "0",
     "output_type": "error",
     "traceback": [
      "\u001b[1;31m---------------------------------------------------------------------------\u001b[0m",
      "\u001b[1;31mKeyError\u001b[0m                                  Traceback (most recent call last)",
      "\u001b[1;32m~\\Anaconda3\\lib\\site-packages\\pandas\\core\\indexes\\base.py\u001b[0m in \u001b[0;36mget_loc\u001b[1;34m(self, key, method, tolerance)\u001b[0m\n\u001b[0;32m   3360\u001b[0m             \u001b[1;32mtry\u001b[0m\u001b[1;33m:\u001b[0m\u001b[1;33m\u001b[0m\u001b[1;33m\u001b[0m\u001b[0m\n\u001b[1;32m-> 3361\u001b[1;33m                 \u001b[1;32mreturn\u001b[0m \u001b[0mself\u001b[0m\u001b[1;33m.\u001b[0m\u001b[0m_engine\u001b[0m\u001b[1;33m.\u001b[0m\u001b[0mget_loc\u001b[0m\u001b[1;33m(\u001b[0m\u001b[0mcasted_key\u001b[0m\u001b[1;33m)\u001b[0m\u001b[1;33m\u001b[0m\u001b[1;33m\u001b[0m\u001b[0m\n\u001b[0m\u001b[0;32m   3362\u001b[0m             \u001b[1;32mexcept\u001b[0m \u001b[0mKeyError\u001b[0m \u001b[1;32mas\u001b[0m \u001b[0merr\u001b[0m\u001b[1;33m:\u001b[0m\u001b[1;33m\u001b[0m\u001b[1;33m\u001b[0m\u001b[0m\n",
      "\u001b[1;32m~\\Anaconda3\\lib\\site-packages\\pandas\\_libs\\index.pyx\u001b[0m in \u001b[0;36mpandas._libs.index.IndexEngine.get_loc\u001b[1;34m()\u001b[0m\n",
      "\u001b[1;32m~\\Anaconda3\\lib\\site-packages\\pandas\\_libs\\index.pyx\u001b[0m in \u001b[0;36mpandas._libs.index.IndexEngine.get_loc\u001b[1;34m()\u001b[0m\n",
      "\u001b[1;32mpandas\\_libs\\hashtable_class_helper.pxi\u001b[0m in \u001b[0;36mpandas._libs.hashtable.PyObjectHashTable.get_item\u001b[1;34m()\u001b[0m\n",
      "\u001b[1;32mpandas\\_libs\\hashtable_class_helper.pxi\u001b[0m in \u001b[0;36mpandas._libs.hashtable.PyObjectHashTable.get_item\u001b[1;34m()\u001b[0m\n",
      "\u001b[1;31mKeyError\u001b[0m: 0",
      "\nThe above exception was the direct cause of the following exception:\n",
      "\u001b[1;31mKeyError\u001b[0m                                  Traceback (most recent call last)",
      "\u001b[1;32mC:\\Users\\BENJAM~1.MAR\\AppData\\Local\\Temp/ipykernel_11864/1396400814.py\u001b[0m in \u001b[0;36m<module>\u001b[1;34m\u001b[0m\n\u001b[0;32m     16\u001b[0m \u001b[0mi\u001b[0m\u001b[1;33m=\u001b[0m\u001b[1;36m0\u001b[0m\u001b[1;33m\u001b[0m\u001b[1;33m\u001b[0m\u001b[0m\n\u001b[0;32m     17\u001b[0m \u001b[1;32mwhile\u001b[0m \u001b[1;33m(\u001b[0m\u001b[0mi\u001b[0m\u001b[1;33m<\u001b[0m\u001b[0mlen\u001b[0m\u001b[1;33m(\u001b[0m\u001b[0mX_train_ultra_simple\u001b[0m\u001b[1;33m)\u001b[0m\u001b[1;33m)\u001b[0m\u001b[1;33m:\u001b[0m\u001b[1;33m\u001b[0m\u001b[1;33m\u001b[0m\u001b[0m\n\u001b[1;32m---> 18\u001b[1;33m     \u001b[0ma\u001b[0m\u001b[1;33m=\u001b[0m\u001b[0mX_train_ultra_simple\u001b[0m\u001b[1;33m[\u001b[0m\u001b[0mi\u001b[0m\u001b[1;33m]\u001b[0m\u001b[1;33m[\u001b[0m\u001b[1;36m0\u001b[0m\u001b[1;33m]\u001b[0m\u001b[1;31m# rendre plus lisible\u001b[0m\u001b[1;33m\u001b[0m\u001b[1;33m\u001b[0m\u001b[0m\n\u001b[0m\u001b[0;32m     19\u001b[0m     \u001b[0mb\u001b[0m\u001b[1;33m=\u001b[0m\u001b[0mX_train_ultra_simple\u001b[0m\u001b[1;33m[\u001b[0m\u001b[0mi\u001b[0m\u001b[1;33m]\u001b[0m\u001b[1;33m[\u001b[0m\u001b[1;36m1\u001b[0m\u001b[1;33m]\u001b[0m\u001b[1;33m\u001b[0m\u001b[1;33m\u001b[0m\u001b[0m\n\u001b[0;32m     20\u001b[0m     \u001b[0mg\u001b[0m\u001b[1;33m.\u001b[0m\u001b[0madd_edge\u001b[0m\u001b[1;33m(\u001b[0m\u001b[0ma\u001b[0m\u001b[1;33m,\u001b[0m\u001b[0mb\u001b[0m\u001b[1;33m,\u001b[0m\u001b[0mweight\u001b[0m\u001b[1;33m=\u001b[0m\u001b[1;36m0\u001b[0m\u001b[1;33m)\u001b[0m\u001b[1;33m\u001b[0m\u001b[1;33m\u001b[0m\u001b[0m\n",
      "\u001b[1;32m~\\Anaconda3\\lib\\site-packages\\pandas\\core\\frame.py\u001b[0m in \u001b[0;36m__getitem__\u001b[1;34m(self, key)\u001b[0m\n\u001b[0;32m   3456\u001b[0m             \u001b[1;32mif\u001b[0m \u001b[0mself\u001b[0m\u001b[1;33m.\u001b[0m\u001b[0mcolumns\u001b[0m\u001b[1;33m.\u001b[0m\u001b[0mnlevels\u001b[0m \u001b[1;33m>\u001b[0m \u001b[1;36m1\u001b[0m\u001b[1;33m:\u001b[0m\u001b[1;33m\u001b[0m\u001b[1;33m\u001b[0m\u001b[0m\n\u001b[0;32m   3457\u001b[0m                 \u001b[1;32mreturn\u001b[0m \u001b[0mself\u001b[0m\u001b[1;33m.\u001b[0m\u001b[0m_getitem_multilevel\u001b[0m\u001b[1;33m(\u001b[0m\u001b[0mkey\u001b[0m\u001b[1;33m)\u001b[0m\u001b[1;33m\u001b[0m\u001b[1;33m\u001b[0m\u001b[0m\n\u001b[1;32m-> 3458\u001b[1;33m             \u001b[0mindexer\u001b[0m \u001b[1;33m=\u001b[0m \u001b[0mself\u001b[0m\u001b[1;33m.\u001b[0m\u001b[0mcolumns\u001b[0m\u001b[1;33m.\u001b[0m\u001b[0mget_loc\u001b[0m\u001b[1;33m(\u001b[0m\u001b[0mkey\u001b[0m\u001b[1;33m)\u001b[0m\u001b[1;33m\u001b[0m\u001b[1;33m\u001b[0m\u001b[0m\n\u001b[0m\u001b[0;32m   3459\u001b[0m             \u001b[1;32mif\u001b[0m \u001b[0mis_integer\u001b[0m\u001b[1;33m(\u001b[0m\u001b[0mindexer\u001b[0m\u001b[1;33m)\u001b[0m\u001b[1;33m:\u001b[0m\u001b[1;33m\u001b[0m\u001b[1;33m\u001b[0m\u001b[0m\n\u001b[0;32m   3460\u001b[0m                 \u001b[0mindexer\u001b[0m \u001b[1;33m=\u001b[0m \u001b[1;33m[\u001b[0m\u001b[0mindexer\u001b[0m\u001b[1;33m]\u001b[0m\u001b[1;33m\u001b[0m\u001b[1;33m\u001b[0m\u001b[0m\n",
      "\u001b[1;32m~\\Anaconda3\\lib\\site-packages\\pandas\\core\\indexes\\base.py\u001b[0m in \u001b[0;36mget_loc\u001b[1;34m(self, key, method, tolerance)\u001b[0m\n\u001b[0;32m   3361\u001b[0m                 \u001b[1;32mreturn\u001b[0m \u001b[0mself\u001b[0m\u001b[1;33m.\u001b[0m\u001b[0m_engine\u001b[0m\u001b[1;33m.\u001b[0m\u001b[0mget_loc\u001b[0m\u001b[1;33m(\u001b[0m\u001b[0mcasted_key\u001b[0m\u001b[1;33m)\u001b[0m\u001b[1;33m\u001b[0m\u001b[1;33m\u001b[0m\u001b[0m\n\u001b[0;32m   3362\u001b[0m             \u001b[1;32mexcept\u001b[0m \u001b[0mKeyError\u001b[0m \u001b[1;32mas\u001b[0m \u001b[0merr\u001b[0m\u001b[1;33m:\u001b[0m\u001b[1;33m\u001b[0m\u001b[1;33m\u001b[0m\u001b[0m\n\u001b[1;32m-> 3363\u001b[1;33m                 \u001b[1;32mraise\u001b[0m \u001b[0mKeyError\u001b[0m\u001b[1;33m(\u001b[0m\u001b[0mkey\u001b[0m\u001b[1;33m)\u001b[0m \u001b[1;32mfrom\u001b[0m \u001b[0merr\u001b[0m\u001b[1;33m\u001b[0m\u001b[1;33m\u001b[0m\u001b[0m\n\u001b[0m\u001b[0;32m   3364\u001b[0m \u001b[1;33m\u001b[0m\u001b[0m\n\u001b[0;32m   3365\u001b[0m         \u001b[1;32mif\u001b[0m \u001b[0mis_scalar\u001b[0m\u001b[1;33m(\u001b[0m\u001b[0mkey\u001b[0m\u001b[1;33m)\u001b[0m \u001b[1;32mand\u001b[0m \u001b[0misna\u001b[0m\u001b[1;33m(\u001b[0m\u001b[0mkey\u001b[0m\u001b[1;33m)\u001b[0m \u001b[1;32mand\u001b[0m \u001b[1;32mnot\u001b[0m \u001b[0mself\u001b[0m\u001b[1;33m.\u001b[0m\u001b[0mhasnans\u001b[0m\u001b[1;33m:\u001b[0m\u001b[1;33m\u001b[0m\u001b[1;33m\u001b[0m\u001b[0m\n",
      "\u001b[1;31mKeyError\u001b[0m: 0"
     ]
    }
   ],
   "source": [
    "start = time.time()\n",
    "ditc_maping(X_train_ultra_simple,dict_merchants,dict_cc_num)\n",
    "\n",
    "print(\"---dictionary maping = %s seconds ---\" % (time.time() - start));start = time.time()\n"
   ]
  },
  {
   "cell_type": "code",
   "execution_count": 13,
   "id": "b7bddd32",
   "metadata": {},
   "outputs": [],
   "source": [
    "start = time.time\n",
    "\n",
    "g = nx.Graph()\n",
    "\n",
    "i=0\n",
    "while (i<len(X_train_ultra_simple)):\n",
    "    a=X_train_ultra_simple[\"merchant\"][i]# rendre plus lisible\n",
    "    b=X_train_ultra_simple[\"cc_num\"][i]\n",
    "    g.add_edge(a,b,weight=0)\n",
    "    i=i+1\n",
    "i=0\n",
    "while (i<len(X_train_ultra_simple)):# on lis 2 fois mais ca coute que 4 sec\n",
    "    a=X_train_ultra_simple[\"merchant\"][i]\n",
    "    b=X_train_ultra_simple[\"cc_num\"][i]\n",
    "    g[a][b][\"weight\"]=g[a][b][\"weight\"]+1 # il falais initialiser en premier\n",
    "    i=i+1\n",
    "\n",
    "#print(\"---graph constructing  %s seconds ---\" % (time.time() - start));start = time.time"
   ]
  },
  {
   "cell_type": "code",
   "execution_count": null,
   "id": "9185a76e",
   "metadata": {},
   "outputs": [],
   "source": [
    "# divison en plusieures sous graphs \n",
    "sous_graph=[]\n",
    "i=0\n",
    "i2=0\n",
    "num_frame=30\n",
    "sub_g=0\n",
    "time_frame_size=len(X_train_ultra_simple) / num_frame\n",
    "while ( i<num_frame):\n",
    "    sous_graph.append(nx.Graph())\n",
    "    i=i+1\n",
    "\n",
    "while (i<len(X_train_ultra_simple)):\n",
    "    a=X_train_ultra_simple[i][0]# rendre plus lisible\n",
    "    b=X_train_ultra_simple[i][1]\n",
    "    sous_graph[sub_g].add_edge(a,b,weight=0)\n",
    "    i=i+1\n",
    "    i2=i2+1\n",
    "    if i2>= time_frame_size:\n",
    "        i2=0\n",
    "        sub_g=sub_g+1\n",
    "\n"
   ]
  },
  {
   "cell_type": "code",
   "execution_count": null,
   "id": "d3f84c07",
   "metadata": {},
   "outputs": [],
   "source": [
    "print(\"---  %s seconds from the start---\" % (time.time() - program_start));start = time.time()"
   ]
  },
  {
   "cell_type": "code",
   "execution_count": null,
   "id": "28b3bec3",
   "metadata": {},
   "outputs": [],
   "source": [
    "import matplotlib.pyplot as plt"
   ]
  },
  {
   "cell_type": "code",
   "execution_count": null,
   "id": "b1ed8362",
   "metadata": {},
   "outputs": [],
   "source": [
    "start = time.time()\n",
    "i=0\n",
    "while(i<num_frame):\n",
    "    subax1 = plt.subplot()\n",
    "    nx.draw(sous_graph[i], with_labels=False, node_size= 1,)\n",
    "    plt.show()\n",
    "    i=i+1\n",
    "print(\"--- %s seconds ---\" % (time.time() - start));start = time.time()\n"
   ]
  },
  {
   "cell_type": "code",
   "execution_count": null,
   "id": "827a5f4d",
   "metadata": {},
   "outputs": [],
   "source": [
    "print(replissement((sous_graph[0].edges),len(dict_merchants),len(dict_cc_num)) )\n",
    "print(replissement((g.edges),len(dict_merchants),len(dict_cc_num)) )\n",
    "#on constate que les times frame permetent d'avoir des graphs moins complet \n",
    "#ce qui est mieux puisque comparer 2 graph complet ne donera pas de differences"
   ]
  },
  {
   "cell_type": "code",
   "execution_count": null,
   "id": "a0844011",
   "metadata": {},
   "outputs": [],
   "source": []
  },
  {
   "cell_type": "code",
   "execution_count": null,
   "id": "c352ce5a",
   "metadata": {},
   "outputs": [],
   "source": []
  },
  {
   "cell_type": "code",
   "execution_count": null,
   "id": "1da3f014",
   "metadata": {},
   "outputs": [],
   "source": []
  },
  {
   "cell_type": "code",
   "execution_count": null,
   "id": "133e3a38",
   "metadata": {},
   "outputs": [],
   "source": []
  },
  {
   "cell_type": "code",
   "execution_count": null,
   "id": "bb9156a9",
   "metadata": {},
   "outputs": [],
   "source": []
  },
  {
   "cell_type": "code",
   "execution_count": null,
   "id": "4ce9dbc9",
   "metadata": {},
   "outputs": [],
   "source": [
    "def drawing(g):\n",
    "    start = time.time()\n",
    "    subax1 = plt.subplot()\n",
    "    nx.draw(g, with_labels=False, node_size= 1,)\n",
    "\n",
    "    print(\"--- %s seconds ---\" % (time.time() - start));start = time.time()\n",
    "\n",
    "    subax2 = plt.subplot()\n",
    "    nx.draw_shell(g, with_labels=False,)# font_weight='bold')\n",
    "\n",
    "    subax3 = plt.subplot()\n",
    "    options = {\n",
    "        'node_color': 'black',\n",
    "        'node_size': 100,\n",
    "        'width': 3,\n",
    "    }\n",
    "    nx.draw_spectral(g, **options)#approximation of the ratio cut\n",
    "    nx.draw(g)\n",
    "    plt.savefig(\"random_graph.png\")"
   ]
  },
  {
   "cell_type": "code",
   "execution_count": null,
   "id": "c3f589b0",
   "metadata": {},
   "outputs": [],
   "source": []
  },
  {
   "cell_type": "code",
   "execution_count": null,
   "id": "7530db47",
   "metadata": {},
   "outputs": [],
   "source": [
    "#liste des algo disponible\n",
    "#https://networkx.org/documentation/stable/reference/algorithms/index.html\n"
   ]
  },
  {
   "cell_type": "code",
   "execution_count": null,
   "id": "11bbcfc0",
   "metadata": {},
   "outputs": [],
   "source": [
    "#label propagation sur le data set a l'air interressant"
   ]
  },
  {
   "cell_type": "markdown",
   "id": "3fba2ff3",
   "metadata": {},
   "source": [
    "il faut que je fasse un algo qui décide pour moi comment ajouter des arêtes \n",
    "l'algo prend en entré un objet \n",
    "retourne en sortie un graphe (avec des arêtes qu'il aura décide de mettre ou non)\n",
    "il pourrais apprendre comment créer les graphes comme un réseaux de neurone \n",
    "\n",
    "avg_amt peut etre tres important\n",
    "\n",
    "technique du papier = faire des patern ,puis analyser la repartition statistique des dits paterns\n"
   ]
  },
  {
   "cell_type": "code",
   "execution_count": null,
   "id": "acaf938a",
   "metadata": {},
   "outputs": [],
   "source": []
  },
  {
   "cell_type": "code",
   "execution_count": null,
   "id": "78f194bf",
   "metadata": {},
   "outputs": [],
   "source": []
  },
  {
   "cell_type": "code",
   "execution_count": null,
   "id": "845d4111",
   "metadata": {},
   "outputs": [],
   "source": [
    "# class MaClasseFille(MaClasseMere):\n",
    "\n",
    "def calculate_good_placement(boxes):\n",
    "    index=0\n",
    "    list_size=len(boxes)\n",
    "    summ=0\n",
    "    while (index<list_size):\n",
    "        summ=summ+boxes[index]\n",
    "        index=index+1\n",
    "    #replacing\n",
    "    index=0\n",
    "    good_placement=[]\n",
    "    while(summ>0):\n",
    "        good_placement [index%list_size]=good_placement [index%list_size]+1\n",
    "        index=index+1\n",
    "        summ=summ-1\n",
    "    index=0\n",
    "    while (index<list_size):\n",
    "        good_placement [index]= good_placement [index] -boxes[index]\n",
    "        index=index+1\n",
    "    #replacing\n",
    "    index=0\n",
    "    return good_placement\n",
    "\n",
    "def search_pick(boxes,claw_pos):\n",
    "    list_size=len(boxes)\n",
    "    good_placement=calculate_good_placement(boxes)\n",
    "    if(good_placement[claw_pos]<0):\n",
    "        return \"PICK\"\n",
    "    i=0\n",
    "    while (i<list_size):\n",
    "        if (good_placement[i]<0):\n",
    "            if(i< claw_pos):\n",
    "                return \"LEFT\"\n",
    "            else:\n",
    "                return \"RIGHT\"\n",
    "        i=i+1\n",
    "\n",
    "def search_drop(boxes,claw_pos):\n",
    "    list_size=len(boxes)\n",
    "    good_placement=calculate_good_placement(boxes)\n",
    "    if(good_placement[claw_pos]>0):\n",
    "        return \"DROP\"\n",
    "    i=0\n",
    "    while (i<list_size):\n",
    "        if (good_placement[i]>0):\n",
    "            if(i< claw_pos):\n",
    "                return \"LEFT\"\n",
    "            else:\n",
    "                return \"RIGHT\"\n",
    "        i=i+1\n",
    "    "
   ]
  },
  {
   "cell_type": "code",
   "execution_count": null,
   "id": "710f9e20",
   "metadata": {},
   "outputs": [],
   "source": []
  },
  {
   "cell_type": "code",
   "execution_count": null,
   "id": "ecd8ecfc",
   "metadata": {},
   "outputs": [],
   "source": []
  },
  {
   "cell_type": "code",
   "execution_count": null,
   "id": "16669c0b",
   "metadata": {},
   "outputs": [],
   "source": [
    "while(index<len(X_train_ultra_simple)):\n",
    "    X_train_ultra_simple.loc[\"merchant\"][index]=dict_merchants[X_train_ultra_simple[\"merchant\"][index]]\n",
    "    index=index+1"
   ]
  },
  {
   "cell_type": "code",
   "execution_count": null,
   "id": "c01db9dd",
   "metadata": {},
   "outputs": [],
   "source": [
    "print(g.nodes)\n"
   ]
  },
  {
   "cell_type": "markdown",
   "id": "9f2029d7",
   "metadata": {},
   "source": [
    "# mail a mohamed\n",
    "\n",
    "\n",
    "\n",
    "j'ai des nom de marchants dans le data set par ex\n",
    "\n",
    "fraud_Rippin, Kub and Mann\n",
    "je les ai mis dans un dictionaire ---> pour les mapper avec 0, 1 , 2 ....\n",
    "\n",
    "X_train_ultra_simple[\"merchant\"][index] =dict_merchants[X_train_ultra_simple[\"merchant\"][index]]\n",
    "\n",
    "le probleme c que la je travaille avec une view de l'objet\n",
    "\n",
    "comment je fait pour obtenir un loc , je veux dire c quoi la syntaxe\n",
    "\n",
    "while(index<len(X_train_ultra_simple)):\n",
    "    X_train_ultra_simple.loc[\"merchant\"][index] =dict_merchants[X_train_ultra_simple[\"merchant\"][index]]\n",
    "index=index+1\n",
    "\n",
    "la il me dit  \"A value is trying to be set on a copy of a slice from a DataFrame\"\n",
    "\n",
    "X_train_ultra_simple.merchant.loc[index]=dict_merchants[X_train_ultra_simple[\"merchant\"][index]]\n",
    "\n",
    "X_train_ultra_simple.loc[index][merchant]=\n",
    "X_train_ultra_simple.loc[merchant][index]\n",
    "X_train_ultra_simple.loc[index][0]"
   ]
  },
  {
   "cell_type": "code",
   "execution_count": null,
   "id": "db610505",
   "metadata": {},
   "outputs": [],
   "source": []
  },
  {
   "cell_type": "code",
   "execution_count": null,
   "id": "8186f378",
   "metadata": {},
   "outputs": [],
   "source": []
  },
  {
   "cell_type": "code",
   "execution_count": null,
   "id": "ac978dfc",
   "metadata": {},
   "outputs": [],
   "source": []
  },
  {
   "cell_type": "code",
   "execution_count": null,
   "id": "bb334da3",
   "metadata": {},
   "outputs": [],
   "source": []
  },
  {
   "cell_type": "code",
   "execution_count": null,
   "id": "0d454623",
   "metadata": {},
   "outputs": [],
   "source": []
  },
  {
   "cell_type": "code",
   "execution_count": null,
   "id": "58104683",
   "metadata": {},
   "outputs": [],
   "source": []
  },
  {
   "cell_type": "code",
   "execution_count": null,
   "id": "8312b1c1",
   "metadata": {},
   "outputs": [],
   "source": [
    "### partie embeding"
   ]
  },
  {
   "cell_type": "code",
   "execution_count": null,
   "id": "0b38bd4a",
   "metadata": {},
   "outputs": [],
   "source": [
    "from gem.utils      import graph_util, plot_util"
   ]
  },
  {
   "cell_type": "code",
   "execution_count": 14,
   "id": "f161eb65",
   "metadata": {},
   "outputs": [],
   "source": [
    "x = np.linspace(0,len(X_train_ultra_simple),len(X_train_ultra_simple))"
   ]
  },
  {
   "cell_type": "code",
   "execution_count": 16,
   "id": "be30b0c3",
   "metadata": {},
   "outputs": [
    {
     "name": "stdout",
     "output_type": "stream",
     "text": [
      "[0.00000000e+00 1.00000077e+00 2.00000154e+00 ... 1.29667300e+06\n",
      " 1.29667400e+06 1.29667500e+06]\n"
     ]
    }
   ],
   "source": []
  },
  {
   "cell_type": "code",
   "execution_count": null,
   "id": "b14cd5a0",
   "metadata": {},
   "outputs": [],
   "source": []
  }
 ],
 "metadata": {
  "kernelspec": {
   "display_name": "Python 3 (ipykernel)",
   "language": "python",
   "name": "python3"
  },
  "language_info": {
   "codemirror_mode": {
    "name": "ipython",
    "version": 3
   },
   "file_extension": ".py",
   "mimetype": "text/x-python",
   "name": "python",
   "nbconvert_exporter": "python",
   "pygments_lexer": "ipython3",
   "version": "3.8.12"
  }
 },
 "nbformat": 4,
 "nbformat_minor": 5
}
