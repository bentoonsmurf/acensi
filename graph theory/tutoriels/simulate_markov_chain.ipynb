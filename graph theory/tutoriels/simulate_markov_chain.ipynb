{
 "cells": [
  {
   "cell_type": "code",
   "execution_count": 1,
   "id": "d0097eec",
   "metadata": {},
   "outputs": [
    {
     "name": "stdout",
     "output_type": "stream",
     "text": [
      "import terminé a : 17:21:28\n"
     ]
    }
   ],
   "source": [
    "\n",
    "from keras import backend as K\n",
    "import tensorflow as tf\n",
    "import pandas as pd \n",
    "import numpy as np\n",
    "import math\n",
    "import matplotlib\n",
    "import matplotlib.pyplot as plt\n",
    "import seaborn as sns\n",
    "import collections\n",
    "import progressbar\n",
    "import time\n",
    "from time import process_time\n",
    "import sys\n",
    "import os\n",
    "import random\n",
    "import gc\n",
    "    \n",
    "from sklearn.cluster import KMeans\n",
    "from sklearn.neighbors import KNeighborsClassifier\n",
    "from sklearn.metrics import confusion_matrix\n",
    "from imblearn.under_sampling import RandomUnderSampler \n",
    "from sklearn.model_selection import train_test_split\n",
    "from sklearn.model_selection import KFold\n",
    "from sklearn.metrics import roc_auc_score\n",
    "from sklearn.ensemble import AdaBoostClassifier\n",
    "from sklearn.metrics import f1_score,classification_report,roc_auc_score,precision_score,recall_score, precision_recall_fscore_support \n",
    "from sklearn.model_selection import GridSearchCV,train_test_split\n",
    "from sklearn.preprocessing import StandardScaler\n",
    "from tensorflow.keras.layers import Dropout\n",
    "\n",
    "\n",
    "#from sklearn_som.som import SOM\n",
    "import networkx as nx\n",
    "from networkx.algorithms import approximation\n",
    "\n",
    "pd.set_option('display.max_columns', 100)\n",
    "\n",
    "\n",
    "print(\"import terminé a :\",time.strftime(\"%H:%M:%S\", time.localtime()))\n"
   ]
  },
  {
   "cell_type": "code",
   "execution_count": 25,
   "id": "5f0d184a",
   "metadata": {},
   "outputs": [],
   "source": [
    "class markov_chain:\n",
    "    \n",
    "    # args=une liste d'argument classique\n",
    "    # kwargs : max_iter=1000---> {'max_iter':'1000'}\n",
    "    def __init__(self, *args, **kwargs):\n",
    "        if(len(args)==0):\n",
    "            self.graph =nx.Graph()\n",
    "            curent_node_name=\"start\"\n",
    "        if(len(args)==1):\n",
    "            self.graph = args[0]\n",
    "            curent_node_name=\"start\"\n",
    "        if(len(args)==2):\n",
    "            self.graph = args[0]\n",
    "            curent_node_name=args[1]\n",
    "            \n",
    "            \n",
    "    def set_g(self, graph): \n",
    "        self.graph = graph       \n",
    "    def get_g(self):\n",
    "        return self.graph\n",
    "    def set_curent_node_name(self, name): \n",
    "        self.curent_node_name = name       \n",
    "    def get_curent_node_name(self):\n",
    "        return self.curent_node_name\n",
    "    def find_stationary_distribution(self):\n",
    "        return type(self.graph)"
   ]
  },
  {
   "cell_type": "code",
   "execution_count": 26,
   "id": "cd2282e5",
   "metadata": {},
   "outputs": [
    {
     "name": "stdout",
     "output_type": "stream",
     "text": [
      "MultiGraph with 0 nodes and 0 edges\n"
     ]
    }
   ],
   "source": [
    "g=nx.MultiGraph()\n",
    "curent_node_name=\"start\"\n",
    "cm=markov_chain(g)\n",
    "print(cm.get_g())"
   ]
  },
  {
   "cell_type": "code",
   "execution_count": 7,
   "id": "b5561131",
   "metadata": {},
   "outputs": [],
   "source": [
    "import numpy as np\n",
    "from sklearn import preprocessing\n",
    "transition_mat = np.matrix([\n",
    "    [.95, .05, 0., 0.],\\\n",
    "    [0., 0.9, 0.09, 0.01],\\\n",
    "    [0., 0.05, 0.9, 0.05],\\\n",
    "    [0.8, 0., 0.05, 0.15]])"
   ]
  },
  {
   "cell_type": "code",
   "execution_count": 20,
   "id": "0a15fd18",
   "metadata": {},
   "outputs": [],
   "source": [
    "def is_stochastic(transition_mat):\n",
    "    i=0\n",
    "    maxi=len(transition_mat)\n",
    "    while(i<maxi):\n",
    "        s=sum(transition_mat[i])\n",
    "        \n",
    "        if(s>1.00001):\n",
    "            return False\n",
    "        if(s<0.99999):\n",
    "            return False\n",
    "        i+=1\n",
    "    return True\n",
    "\n",
    "def power_method(transition_mat):\n",
    "    in_progress=transition_mat\n",
    "    for i in range(100):\n",
    "        in_progress=np.matmul(in_progress,transition_mat)\n",
    "        sum_of_rows = in_progress.sum(axis=1)\n",
    "        #print(in_progress.shape)\n",
    "        in_progress = preprocessing.normalize(in_progress, norm=\"l1\")\n",
    "\n",
    "    return in_progress[0]"
   ]
  },
  {
   "cell_type": "code",
   "execution_count": 24,
   "id": "8dfe1a82",
   "metadata": {},
   "outputs": [
    {
     "name": "stdout",
     "output_type": "stream",
     "text": [
      "[[0.34784417 0.32608818 0.30432971 0.02173793]\n",
      " [0.34780696 0.32608571 0.30436694 0.02174039]\n",
      " [0.34782453 0.3260868  0.30434943 0.02173924]\n",
      " [0.34784535 0.32608825 0.30432854 0.02173786]]\n"
     ]
    }
   ],
   "source": [
    "expeced_distribution=[ 0.34782609  ,0.32608696,  0.30434783 , 0.02173913]\n",
    "print(in_progress)\n",
    "#print(is_stochastic(expeced_distribution))"
   ]
  },
  {
   "cell_type": "code",
   "execution_count": 25,
   "id": "8cdcec48",
   "metadata": {},
   "outputs": [
    {
     "name": "stdout",
     "output_type": "stream",
     "text": [
      "[0.34784417 0.32608818 0.30432971 0.02173793]\n"
     ]
    }
   ],
   "source": [
    "print(in_progress[0])"
   ]
  },
  {
   "cell_type": "code",
   "execution_count": 26,
   "id": "a9a147f2",
   "metadata": {},
   "outputs": [
    {
     "name": "stdout",
     "output_type": "stream",
     "text": [
      "True\n"
     ]
    }
   ],
   "source": [
    "print(is_stochastic(in_progress))"
   ]
  },
  {
   "cell_type": "code",
   "execution_count": 31,
   "id": "cf9f0a55",
   "metadata": {},
   "outputs": [
    {
     "name": "stdout",
     "output_type": "stream",
     "text": [
      "big_mat is stochastic  False\n",
      "[ 8.85391380e-05 -1.00500335e-03  4.03557942e-03 -8.13188176e-03\n",
      "  5.05782750e-03  1.13520672e-03 -1.15480978e-02  4.16532690e-02\n",
      " -7.62635571e-02  4.54829191e-02 -8.79825393e-04  1.79054661e-02\n",
      " -9.39229698e-02  2.21202190e-01 -1.45933933e-01 -7.35801740e-03\n",
      "  5.23947050e-02 -1.35823193e-01  9.23800579e-02 -5.37305672e-03\n",
      "  1.86642398e-02 -1.37604644e-02]\n",
      "-2.7755575615628914e-17\n"
     ]
    }
   ],
   "source": [
    "big_mat=[[-5, 5, 0, 0, 0, 0, 0, 0, 0, 0, 0, 0, 0, 0, 0, 0, 0, 0, 0, 0, 0, 0],\n",
    "     [1/2, -6, 5, 0, 0, 1/2, 0, 0, 0, 0, 0, 0, 0, 0, 0, 0, 0, 0, 0, 0, 0, 0],\n",
    "     [0, 1, -7, 5, 0, 0, 1, 0, 0, 0, 0, 0, 0, 0, 0, 0, 0, 0, 0, 0, 0, 0],\n",
    "     [0, 0, 1, -7, 5, 0, 0, 1, 0, 0, 0, 0, 0, 0, 0, 0, 0, 0, 0, 0, 0, 0],\n",
    "     [0, 0, 0, 1, -2, 0, 0, 0, 1, 0, 0, 0, 0, 0, 0, 0, 0, 0, 0, 0, 0, 0],\n",
    "     [1/5, 0, 0, 0, 0, -26/5, 5, 0, 0, 0, 0, 0, 0, 0, 0, 0, 0, 0, 0, 0, 0, 0],\n",
    "     [0, 1/5, 0, 0, 0, 1/2, -31/5, 5, 0, 0, 1/2, 0, 0, 0, 0, 0, 0, 0, 0, 0, 0, 0],\n",
    "     [0, 0, 1/5, 0, 0, 0, 1, -36/5, 5, 0, 0, 1, 0, 0, 0, 0, 0, 0, 0, 0, 0, 0],\n",
    "     [0, 0, 0, 1/5, 0, 0, 0, 1, -36/5, 5, 0, 0, 1, 0, 0, 0, 0, 0, 0, 0, 0, 0],\n",
    "     [0, 0, 0, 0, 1/5, 0, 0, 0, 1, -11/5, 0, 0, 0, 1, 0, 0, 0, 0, 0, 0, 0, 0],\n",
    "     [0, 0, 0, 0, 0, 2/5, 0, 0, 0, 0, -27/5, 5, 0, 0, 0, 0, 0, 0, 0, 0, 0, 0],\n",
    "     [0, 0, 0, 0, 0, 0, 2/5, 0, 0, 0, 1/2, -32/5, 5, 0, 0, 1/2, 0, 0, 0, 0, 0, 0],\n",
    "     [0, 0, 0, 0, 0, 0, 0, 2/5, 0, 0, 0, 1, -37/5, 5, 0, 0, 1, 0, 0, 0, 0, 0],\n",
    "     [0, 0, 0, 0, 0, 0, 0, 0, 2/5, 0, 0, 0, 1, -37/5, 5, 0, 0, 1, 0, 0, 0, 0],\n",
    "     [0, 0, 0, 0, 0, 0, 0, 0, 0, 2/5, 0, 0, 0, 1, -12/5, 0, 0, 0, 1, 0, 0, 0],\n",
    "     [0, 0, 0, 0, 0, 0, 0, 0, 0, 0, 2/5, 0, 0, 0, 0, -27/5, 5, 0, 0, 0, 0, 0],\n",
    "     [0, 0, 0, 0, 0, 0, 0, 0, 0, 0, 0, 2/5, 0, 0, 0, 1/2, -32/5, 5, 0, 1/2, 0, 0],\n",
    "     [0, 0, 0, 0, 0, 0, 0, 0, 0, 0, 0, 0, 2/5, 0, 0, 0, 1/2, -32/5, 5, 0, 1/2, 0],\n",
    "     [0, 0, 0, 0, 0, 0, 0, 0, 0, 0, 0, 0, 0, 2/5, 0, 0, 0, 1/2, -7/5, 0, 0, 1/2],\n",
    "     [0, 0, 0, 0, 0, 0, 0, 0, 0, 0, 0, 0, 0, 0, 0, 2/5, 0, 0, 0, -27/5, 5, 0],\n",
    "     [0, 0, 0, 0, 0, 0, 0, 0, 0, 0, 0, 0, 0, 0, 0, 0, 2/5, 0, 0, 0, -27/5, 5],\n",
    "     [0, 0, 0, 0, 0, 0, 0, 0, 0, 0, 0, 0, 0, 0, 0, 0, 0, 2/5, 0, 0, 0, -2/5]]\n",
    "\n",
    "val=power_method(big_mat)\n",
    "\n",
    "print(\"big_mat is stochastic \",is_stochastic(big_mat))\n",
    "print(val)\n",
    "print(sum(val))"
   ]
  },
  {
   "cell_type": "code",
   "execution_count": 33,
   "id": "9437588c",
   "metadata": {},
   "outputs": [
    {
     "name": "stdout",
     "output_type": "stream",
     "text": [
      "--- graph dist = 0.0 seconds ---\n",
      "--- graph dist = 0.0 seconds ---\n"
     ]
    }
   ],
   "source": [
    "import time\n",
    "start = time.time()"
   ]
  },
  {
   "cell_type": "code",
   "execution_count": 34,
   "id": "1ce4b533",
   "metadata": {},
   "outputs": [
    {
     "name": "stdout",
     "output_type": "stream",
     "text": [
      "--- temps hors ligne = 4059.499307155609 seconds ---\n"
     ]
    }
   ],
   "source": [
    "print(\"--- temps hors ligne = %s seconds ---\" % (time.time() - start));start = time.time()\n",
    "#his"
   ]
  },
  {
   "cell_type": "code",
   "execution_count": 35,
   "id": "c7deb91c",
   "metadata": {},
   "outputs": [
    {
     "name": "stdout",
     "output_type": "stream",
     "text": [
      "--- temps hors ligne = 523.7105548381805 seconds ---\n"
     ]
    }
   ],
   "source": [
    "print(\"--- temps hors ligne = %s seconds ---\" % (time.time() - start));start = time.time()\n",
    "#mine"
   ]
  },
  {
   "cell_type": "code",
   "execution_count": 55,
   "id": "17d674e2",
   "metadata": {},
   "outputs": [],
   "source": [
    "start = time.time()\n",
    "#his"
   ]
  },
  {
   "cell_type": "code",
   "execution_count": 56,
   "id": "c2d643c5",
   "metadata": {},
   "outputs": [
    {
     "name": "stdout",
     "output_type": "stream",
     "text": [
      "--- temps hors ligne = 1100.375866651535 seconds ---\n"
     ]
    }
   ],
   "source": [
    "print(\"--- temps hors ligne = %s seconds ---\" % (time.time() - start))"
   ]
  },
  {
   "cell_type": "code",
   "execution_count": null,
   "id": "615c1e43",
   "metadata": {},
   "outputs": [],
   "source": []
  },
  {
   "cell_type": "code",
   "execution_count": 39,
   "id": "3a6ac91e",
   "metadata": {},
   "outputs": [],
   "source": [
    "if ( False & True):\n",
    "    print(\"tt\")"
   ]
  },
  {
   "cell_type": "code",
   "execution_count": 50,
   "id": "e491d433",
   "metadata": {},
   "outputs": [],
   "source": [
    "d1={'MMMMMMMMMMMMM':1,'0': {'precision': 0.9989910293666407, 'recall': 0.9998139363481666, 'f1-score': 0.9994023134622121, 'support': 553574},\n",
    "    '1': {'precision': 0.9390171699230314, 'recall': 0.7393939393939394, 'f1-score': 0.8273343766301513, 'support': 2145},\n",
    "    'accuracy': 0.998808750465613, \n",
    "    'macro avg':{'precision': 0.9690040996448361, 'recall': 0.869603937871053, 'f1-score': 0.9133683450461817, 'support': 555719}, \n",
    "    'weighted avg': {'precision': 0.9987595383999713, 'recall': 0.998808750465613, 'f1-score': 0.9987381545536542, 'support': 555719}}\n",
    "\n",
    "d2={'MMMMMMMMMMMMM':2,'0': {'precision': 0.9990091021815997, 'recall': 0.9998554845422654, 'f1-score': 0.9994321141694287, 'support': 553574}, '1': {'precision': 0.9522673031026253, 'recall': 0.7440559440559441, 'f1-score': 0.8353834074849517, 'support': 2145}, 'accuracy': 0.9988681329952728, 'macro avg': {'precision': 0.9756382026421124, 'recall': 0.8719557142991048, 'f1-score': 0.9174077608271902, 'support': 555719}, 'weighted avg': {'precision': 0.9988286851740394, 'recall': 0.9988681329952728, 'f1-score': 0.9987989084020567, 'support': 555719}}\n",
    "\n",
    "d3={'MMMMMMMMMMMMM':3,'0': {'precision': 0.9991296606940685, 'recall': 0.9995501956378009, 'f1-score': 0.9993398839243223, 'support': 553574}, '1': {'precision': 0.8697698744769874, 'recall': 0.7752913752913753, 'f1-score': 0.8198175992112399, 'support': 2145}, 'accuracy': 0.9986845869945062, 'macro avg': {'precision': 0.9344497675855279, 'recall': 0.8874207854645881, 'f1-score': 0.9095787415677811, 'support': 555719}, 'weighted avg': {'precision': 0.9986303494568505, 'recall': 0.9986845869945062, 'f1-score': 0.9986469522435456, 'support': 555719}}\n"
   ]
  },
  {
   "cell_type": "code",
   "execution_count": 51,
   "id": "40f1fc37",
   "metadata": {},
   "outputs": [
    {
     "name": "stdout",
     "output_type": "stream",
     "text": [
      "0.8273343766301513\n"
     ]
    }
   ],
   "source": [
    "print(d1[\"1\"]['f1-score'])"
   ]
  },
  {
   "cell_type": "code",
   "execution_count": 52,
   "id": "cb85a7a5",
   "metadata": {},
   "outputs": [],
   "source": [
    "list_test=list()\n",
    "list_test.append(d1)\n",
    "list_test.append(d2)\n",
    "list_test.append(d3)"
   ]
  },
  {
   "cell_type": "code",
   "execution_count": 53,
   "id": "a6ca22bb",
   "metadata": {},
   "outputs": [
    {
     "name": "stdout",
     "output_type": "stream",
     "text": [
      "0.8273343766301513\n",
      "0.8353834074849517\n",
      "0.8198175992112399\n"
     ]
    }
   ],
   "source": [
    "for d in list_test:\n",
    "    print(d[\"1\"]['f1-score'])"
   ]
  },
  {
   "cell_type": "code",
   "execution_count": 54,
   "id": "d4083026",
   "metadata": {},
   "outputs": [
    {
     "name": "stdout",
     "output_type": "stream",
     "text": [
      "[{'MMMMMMMMMMMMM': 2, '0': {'precision': 0.9990091021815997, 'recall': 0.9998554845422654, 'f1-score': 0.9994321141694287, 'support': 553574}, '1': {'precision': 0.9522673031026253, 'recall': 0.7440559440559441, 'f1-score': 0.8353834074849517, 'support': 2145}, 'accuracy': 0.9988681329952728, 'macro avg': {'precision': 0.9756382026421124, 'recall': 0.8719557142991048, 'f1-score': 0.9174077608271902, 'support': 555719}, 'weighted avg': {'precision': 0.9988286851740394, 'recall': 0.9988681329952728, 'f1-score': 0.9987989084020567, 'support': 555719}}, {'MMMMMMMMMMMMM': 1, '0': {'precision': 0.9989910293666407, 'recall': 0.9998139363481666, 'f1-score': 0.9994023134622121, 'support': 553574}, '1': {'precision': 0.9390171699230314, 'recall': 0.7393939393939394, 'f1-score': 0.8273343766301513, 'support': 2145}, 'accuracy': 0.998808750465613, 'macro avg': {'precision': 0.9690040996448361, 'recall': 0.869603937871053, 'f1-score': 0.9133683450461817, 'support': 555719}, 'weighted avg': {'precision': 0.9987595383999713, 'recall': 0.998808750465613, 'f1-score': 0.9987381545536542, 'support': 555719}}, {'MMMMMMMMMMMMM': 3, '0': {'precision': 0.9991296606940685, 'recall': 0.9995501956378009, 'f1-score': 0.9993398839243223, 'support': 553574}, '1': {'precision': 0.8697698744769874, 'recall': 0.7752913752913753, 'f1-score': 0.8198175992112399, 'support': 2145}, 'accuracy': 0.9986845869945062, 'macro avg': {'precision': 0.9344497675855279, 'recall': 0.8874207854645881, 'f1-score': 0.9095787415677811, 'support': 555719}, 'weighted avg': {'precision': 0.9986303494568505, 'recall': 0.9986845869945062, 'f1-score': 0.9986469522435456, 'support': 555719}}]\n"
     ]
    }
   ],
   "source": [
    "return_value=sorted(list_test, key=lambda d: d[\"1\"]['f1-score'],reverse=True)\n",
    "print(return_value)"
   ]
  },
  {
   "cell_type": "code",
   "execution_count": 59,
   "id": "410afe96",
   "metadata": {},
   "outputs": [
    {
     "name": "stdout",
     "output_type": "stream",
     "text": [
      "0\n",
      "1\n",
      "2\n",
      "3\n",
      "4\n",
      "5\n",
      "6\n",
      "7\n",
      "8\n",
      "9\n"
     ]
    }
   ],
   "source": [
    "i=0\n",
    "while(True&(i<10)):\n",
    "    (print(i))\n",
    "    i+=1"
   ]
  },
  {
   "cell_type": "code",
   "execution_count": null,
   "id": "4083fa53",
   "metadata": {},
   "outputs": [],
   "source": []
  },
  {
   "cell_type": "code",
   "execution_count": null,
   "id": "8852257f",
   "metadata": {},
   "outputs": [],
   "source": []
  }
 ],
 "metadata": {
  "kernelspec": {
   "display_name": "Python 3 (ipykernel)",
   "language": "python",
   "name": "python3"
  },
  "language_info": {
   "codemirror_mode": {
    "name": "ipython",
    "version": 3
   },
   "file_extension": ".py",
   "mimetype": "text/x-python",
   "name": "python",
   "nbconvert_exporter": "python",
   "pygments_lexer": "ipython3",
   "version": "3.8.12"
  }
 },
 "nbformat": 4,
 "nbformat_minor": 5
}
