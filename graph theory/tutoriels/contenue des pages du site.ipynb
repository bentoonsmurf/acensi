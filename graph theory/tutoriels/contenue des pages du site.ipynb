{
 "cells": [
  {
   "cell_type": "code",
   "execution_count": 4,
   "id": "ce939110",
   "metadata": {},
   "outputs": [
    {
     "name": "stdout",
     "output_type": "stream",
     "text": [
      "experimentation du principe de la theorie des jeux sur des donnés lineairement separable, premiers pas avec un svm\n"
     ]
    }
   ],
   "source": [
    "description_facile_2d=\"experimentation du principe de la theorie des jeux sur des donnés lineairement separable, premiers pas avec un svm\"\n",
    "facile_2d=\"no_atk\"\n",
    "# image du data_set sans rien\n",
    "# immage du svm lineaire\n",
    "print(description_facile_2d)"
   ]
  },
  {
   "cell_type": "code",
   "execution_count": 2,
   "id": "871e257b",
   "metadata": {},
   "outputs": [],
   "source": [
    "facile_2d=\"atk\"\n",
    "#image du svm lineaire \n",
    "#image du svm lineaire avec attack \n",
    "#image du svm lineaire avec attack encore plus forte\n",
    "#Data_1_1 accuracy with attacks, mode=free_range.csv\n",
    "#Data_1_2 accuracy with attacks, mode=free_range.csv\n",
    "#nnnnnnnnnnnnnnnnnnnnnnnnnnnnnnnnnnnnnnnnnnnnnnnnnn"
   ]
  },
  {
   "cell_type": "code",
   "execution_count": 5,
   "id": "94ed41f7",
   "metadata": {},
   "outputs": [
    {
     "name": "stdout",
     "output_type": "stream",
     "text": [
      "experimentation du principe de la theorie des jeux sur des donnés non lineairement separable, premiers pas avec un svm\n"
     ]
    }
   ],
   "source": [
    "description_moyen_2d=\"experimentation du principe de la theorie des jeux sur des donnés non lineairement separable, premiers pas avec un svm\"\n",
    "moyen_2d=\"no_atk\"\n",
    "# image du data_set sans rien\n",
    "# image du svm en cercle\n",
    "print(description_moyen_2d)"
   ]
  },
  {
   "cell_type": "code",
   "execution_count": 4,
   "id": "2f1a2a03",
   "metadata": {},
   "outputs": [],
   "source": [
    "moyen_2d=\"atk\"\n",
    "#image du svm cercle \n",
    "#image du svm cercle avec attack (type 1)\n",
    "#image du svm cercle avec attack difernte (type2)\n",
    "#Data_2_1 accuracy with centered attack-GA-max, mode=free_range.csv\n",
    "#Data_2_1 accuracy with centered attack-iterative, mode=free_range.csv\n",
    "#Data_2_1 accuracy with knn attack, mode=free_range.csv\n",
    "#Data_2_1 accuracy with knn attack-GA-max, mode=free_range.csv\n",
    "#Data_2_2 accuracy with centered attack, mode=free_range.csv\n",
    "#Data_2_2 accuracy with knn attack, mode=free_range.csv"
   ]
  },
  {
   "cell_type": "code",
   "execution_count": 5,
   "id": "087a0473",
   "metadata": {},
   "outputs": [],
   "source": [
    "reel=\"atk\"\n",
    "description_rf=\"resultat de la theorie des jeux avec random forest\"\n",
    "description_nn=\"resultat de la theorie des jeux avec neural network\"\n",
    "description_svm=\"resultat de la theorie des jeux avec svm\"\n",
    "description_xgboost=\"resultat de la theorie des jeux avec xgboost\"\n",
    "# 4 csv"
   ]
  },
  {
   "cell_type": "code",
   "execution_count": 6,
   "id": "ca58036d",
   "metadata": {},
   "outputs": [],
   "source": [
    "reel=\"def\" \n",
    "# 4 csv"
   ]
  },
  {
   "cell_type": "code",
   "execution_count": null,
   "id": "9ef4db0f",
   "metadata": {},
   "outputs": [],
   "source": [
    "##############################################################################\n",
    "### a partir de la c'est plus pour toi leo "
   ]
  },
  {
   "cell_type": "code",
   "execution_count": null,
   "id": "e5f6eaea",
   "metadata": {},
   "outputs": [],
   "source": []
  },
  {
   "cell_type": "code",
   "execution_count": 7,
   "id": "c9d17496",
   "metadata": {},
   "outputs": [
    {
     "name": "stdout",
     "output_type": "stream",
     "text": [
      "496.0\n"
     ]
    }
   ],
   "source": [
    "print(32*(32-1)/2 )"
   ]
  },
  {
   "cell_type": "code",
   "execution_count": 8,
   "id": "8ffdf323",
   "metadata": {},
   "outputs": [
    {
     "name": "stdout",
     "output_type": "stream",
     "text": [
      "attention aux versions des librairies utilisées \n",
      "par defaut les installeur installent la version la plus récente\n",
      "des versions trop recentes ou anciennes  peuvent rendre le code non fonctionel\n",
      "les versions taguées (important !) doivent rester inchangées \n"
     ]
    }
   ],
   "source": [
    "print (\"attention aux versions des librairies utilisées \")\n",
    "print(\"par defaut les installeur installent la version la plus récente\")\n",
    "print(\"des versions trop recentes ou anciennes  peuvent rendre le code non fonctionel\")\n",
    "print(\"les versions taguées (important !) doivent rester inchangées \")"
   ]
  },
  {
   "cell_type": "markdown",
   "id": "f79ae937",
   "metadata": {},
   "source": [
    "1-Maximum node degree =graph_degree  \n",
    "2-Entropy of the degree distribution  \n",
    "3-Assortativity = degree_assortativity_coefficient(G[, x, y, …])  \n",
    "4-Clustering coefcient  \n",
    "5-Geodesic distance= Average length of all the shortest paths  \n",
    "6-Efciency =global_efficiency  \n",
    "7-Information Content = Metric assessing the presence of meso-scale structures   in the network."
   ]
  },
  {
   "cell_type": "code",
   "execution_count": 24,
   "id": "e9a2cb20",
   "metadata": {},
   "outputs": [],
   "source": [
    "import networkx as nx\n",
    "import numpy as np\n",
    "import math\n",
    "graph =nx.Graph()\n",
    "if(True):\n",
    "    graph.add_nodes_from([0,1,2,3,4])\n",
    "    graph.add_edge(0,1,weight=0,edge_id=\"a\")\n",
    "    graph.add_edge(1,2,weight=0,edge_id=\"b\")\n",
    "    graph.add_edge(2,3,weight=0,edge_id=\"c\")\n",
    "    graph.add_edge(3,4,weight=0,edge_id=\"d\")\n",
    "    graph.add_edge(4,2,weight=0,edge_id=\"e\")\n",
    "\n",
    "############################################## liste des options d'extractions\n",
    "def graph_max_degree(g):\n",
    "    degrees = [val for (node, val) in g.degree()]\n",
    "    maxd=max(degrees)\n",
    "    return maxd\n",
    "def geodesic_dist(graph):\n",
    "    return nx.average_shortest_path_length(graph)\n",
    "\n",
    "#special thanks to Francisco A. Rodrigues, University of São Paulo.\n",
    "# http://conteudo.icmc.usp.br/pessoas/francisco\n",
    "def degree_distribution(G):\n",
    "    vk = dict(G.degree())\n",
    "    vk = list(vk.values()) # we get only the degree values\n",
    "    maxk = np.max(vk)\n",
    "    mink = np.min(min)\n",
    "    kvalues= arange(0,maxk+1) # possible values of k\n",
    "    Pk = np.zeros(maxk+1) # P(k)\n",
    "    for k in vk:\n",
    "        Pk[k] = Pk[k] + 1\n",
    "    Pk = Pk/sum(Pk) # the sum of the elements of P(k) must to be equal to one\n",
    "    return kvalues,Pk\n",
    "def shannon_entropy(G):\n",
    "    k,Pk = degree_distribution(G)\n",
    "    H = 0\n",
    "    for p in Pk:\n",
    "        if(p > 0):\n",
    "            H = H - p*math.log(p, 2)\n",
    "    return H\n",
    "\n",
    "def contain_meso_scale(graph):\n",
    "    \n",
    "    return False    \n",
    "\n",
    "\n",
    "\n",
    "\n",
    "def extract_info_from_one_graph(g, to_do_list):\n",
    "    graph_property=np.array([])\n",
    "    calc_result=0\n",
    "    \n",
    "    if(\"max_degree\" in to_do_list):\n",
    "        #print (\" max degree\")\n",
    "        calc_result=graph_max_degree(g)\n",
    "        graph_property=np.append(graph_property,calc_result)\n",
    "    if(\"assortativity\" in to_do_list):\n",
    "        calc_result = nx.degree_assortativity_coefficient(g)\n",
    "        graph_property=np.append(graph_property,calc_result)\n",
    "    if(\"clustering\" in to_do_list):\n",
    "        calc_result= approximation.average_clustering(g, trials=1000, seed=10)\n",
    "        graph_property=np.append(graph_property,calc_result)\n",
    "    if(\"global_efficiency\" in to_do_list):\n",
    "        calc_result= nx.global_efficiency(g)\n",
    "        graph_property=np.append(graph_property,calc_result)   \n",
    "    if(\"geodesic_dist\" in to_do_list):\n",
    "        calc_result=geodesic_dist(g)\n",
    "        graph_property=np.append(graph_property,calc_result)\n",
    "    if(\"contain_meso_scale\" in to_do_list):#to do\n",
    "        calc_result=contain_meso_scale(g)\n",
    "        graph_property=np.append(graph_property,calc_result)\n",
    "    if(\"Shannon_entropy\" in to_do_list):#to do\n",
    "        calc_result=Shannon_entropy(g)\n",
    "        graph_property=np.append(graph_property,calc_result)  \n",
    "    #change this ()\n",
    "    #            ()\n",
    "    #            ()\n",
    "    #      to this ()()()\n",
    "    return np.expand_dims(graph_property,axis=0)\n",
    "    \n",
    "def get_all_lenght(g):\n",
    "    #g=nx.path_graph(5)\n",
    "    length=nx.all_pairs_shortest_path_length(g)\n",
    "    #print(length[1][4])\n",
    "    return length\n",
    "    "
   ]
  },
  {
   "cell_type": "code",
   "execution_count": 20,
   "id": "1c9c8746",
   "metadata": {},
   "outputs": [
    {
     "name": "stdout",
     "output_type": "stream",
     "text": [
      "3\n"
     ]
    }
   ],
   "source": [
    "#1 max degree\n",
    "max_degree=graph_max_degree(graph)\n",
    "print(max_degree)"
   ]
  },
  {
   "cell_type": "code",
   "execution_count": 25,
   "id": "74f18d0f",
   "metadata": {},
   "outputs": [
    {
     "name": "stdout",
     "output_type": "stream",
     "text": [
      "1.3709505944546687\n"
     ]
    }
   ],
   "source": [
    "#2 shanon entropy\n",
    "\n",
    "def degree_distribution(G):\n",
    "    vk = dict(G.degree())\n",
    "    vk = list(vk.values()) # we get only the degree values\n",
    "    maxk = np.max(vk)\n",
    "    mink = np.min(min)\n",
    "    kvalues= np.arange(0,maxk+1) # possible values of k\n",
    "    Pk = np.zeros(maxk+1) # P(k)\n",
    "    for k in vk:\n",
    "        Pk[k] = Pk[k] + 1\n",
    "    Pk = Pk/sum(Pk) # the sum of the elements of P(k) must to be equal to one\n",
    "    return kvalues,Pk\n",
    "def shannon_entropy(G):\n",
    "    k,Pk = degree_distribution(G)\n",
    "    H = 0\n",
    "    for p in Pk:\n",
    "        if(p > 0):\n",
    "            H = H - p*math.log(p, 2)\n",
    "    return H\n",
    "\n",
    "print(shannon_entropy(graph))"
   ]
  },
  {
   "cell_type": "code",
   "execution_count": 22,
   "id": "823d336e",
   "metadata": {},
   "outputs": [
    {
     "name": "stdout",
     "output_type": "stream",
     "text": [
      "-0.11111111111111355\n"
     ]
    }
   ],
   "source": [
    "#3 assortativity\n",
    "r = nx.degree_assortativity_coefficient(graph)\n",
    "print(r)"
   ]
  },
  {
   "cell_type": "code",
   "execution_count": 13,
   "id": "77c3d05d",
   "metadata": {},
   "outputs": [
    {
     "name": "stdout",
     "output_type": "stream",
     "text": [
      "0.489\n"
     ]
    }
   ],
   "source": [
    "#4-Clustering coefcient\n",
    "from networkx.algorithms import approximation\n",
    "    \n",
    "average_clustering= approximation.average_clustering(graph, trials=1000, seed=10)\n",
    "print(average_clustering)"
   ]
  },
  {
   "cell_type": "code",
   "execution_count": 17,
   "id": "9d59371c",
   "metadata": {},
   "outputs": [
    {
     "name": "stdout",
     "output_type": "stream",
     "text": [
      "1.7\n"
     ]
    }
   ],
   "source": [
    "#5 geodesic dist\n",
    "    def geodesic_dist(graph):\n",
    "        return nx.average_shortest_path_length(graph)\n",
    "\n",
    "print(geodesic_dist(graph))\n"
   ]
  },
  {
   "cell_type": "code",
   "execution_count": 15,
   "id": "8fe1dd94",
   "metadata": {},
   "outputs": [
    {
     "name": "stdout",
     "output_type": "stream",
     "text": [
      "0.7166666666666667\n"
     ]
    }
   ],
   "source": [
    "#6 global efficiency\n",
    "#import networkx.algorithms.efficiency_measures.global_efficiency\n",
    "ef =nx.global_efficiency(graph)\n",
    "print(ef)"
   ]
  },
  {
   "cell_type": "code",
   "execution_count": null,
   "id": "78c6c062",
   "metadata": {},
   "outputs": [],
   "source": [
    "#7 contain_meso_scale"
   ]
  },
  {
   "cell_type": "code",
   "execution_count": 16,
   "id": "7102303a",
   "metadata": {},
   "outputs": [
    {
     "ename": "ValueError",
     "evalue": "too many values to unpack (expected 2)",
     "output_type": "error",
     "traceback": [
      "\u001b[1;31m---------------------------------------------------------------------------\u001b[0m",
      "\u001b[1;31mValueError\u001b[0m                                Traceback (most recent call last)",
      "\u001b[1;32mC:\\Users\\BENJAM~1.MAR\\AppData\\Local\\Temp/ipykernel_3768/2440274731.py\u001b[0m in \u001b[0;36m<module>\u001b[1;34m\u001b[0m\n\u001b[0;32m      4\u001b[0m \u001b[1;33m\u001b[0m\u001b[0m\n\u001b[0;32m      5\u001b[0m \u001b[1;33m\u001b[0m\u001b[0m\n\u001b[1;32m----> 6\u001b[1;33m \u001b[1;32mfor\u001b[0m \u001b[0ma\u001b[0m\u001b[1;33m,\u001b[0m\u001b[0mb\u001b[0m \u001b[1;32min\u001b[0m \u001b[0mliste\u001b[0m\u001b[1;33m,\u001b[0m\u001b[0mliste1\u001b[0m\u001b[1;33m:\u001b[0m\u001b[1;33m\u001b[0m\u001b[1;33m\u001b[0m\u001b[0m\n\u001b[0m\u001b[0;32m      7\u001b[0m     \u001b[0mprint\u001b[0m\u001b[1;33m(\u001b[0m\u001b[0ma\u001b[0m\u001b[1;33m,\u001b[0m\u001b[0mb\u001b[0m\u001b[1;33m)\u001b[0m\u001b[1;33m\u001b[0m\u001b[1;33m\u001b[0m\u001b[0m\n\u001b[0;32m      8\u001b[0m \u001b[0mprint\u001b[0m \u001b[1;33m(\u001b[0m\u001b[0mim\u001b[0m\u001b[1;33m)\u001b[0m\u001b[1;33m\u001b[0m\u001b[1;33m\u001b[0m\u001b[0m\n",
      "\u001b[1;31mValueError\u001b[0m: too many values to unpack (expected 2)"
     ]
    }
   ],
   "source": [
    "liste=(((),(1,1,1)),(2,2.2),(3,3.4))\n",
    "liste1=(((),(1,1,1)),(2,2.2),(3,3.4))\n",
    "liste2=(((),(1,1,1)),(2,2.2),(3,3.4))\n",
    "\n",
    "\n",
    "for a,b in liste,liste1:\n",
    "    print(a,b)\n",
    "print (im)"
   ]
  },
  {
   "cell_type": "code",
   "execution_count": 1,
   "id": "8422a19a",
   "metadata": {},
   "outputs": [],
   "source": [
    "# si au lieu d'une regression lineaire j'utilise un kernel rbf\n",
    "# ou une regression avec un plus haut degree\n"
   ]
  },
  {
   "cell_type": "code",
   "execution_count": null,
   "id": "bacd7e2f",
   "metadata": {},
   "outputs": [],
   "source": []
  }
 ],
 "metadata": {
  "kernelspec": {
   "display_name": "Python 3 (ipykernel)",
   "language": "python",
   "name": "python3"
  },
  "language_info": {
   "codemirror_mode": {
    "name": "ipython",
    "version": 3
   },
   "file_extension": ".py",
   "mimetype": "text/x-python",
   "name": "python",
   "nbconvert_exporter": "python",
   "pygments_lexer": "ipython3",
   "version": "3.8.12"
  }
 },
 "nbformat": 4,
 "nbformat_minor": 5
}
